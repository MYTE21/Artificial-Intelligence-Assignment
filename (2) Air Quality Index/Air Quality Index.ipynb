{
 "cells": [
  {
   "cell_type": "code",
   "execution_count": 37,
   "metadata": {},
   "outputs": [],
   "source": [
    "import pandas as pd"
   ]
  },
  {
   "cell_type": "code",
   "execution_count": 38,
   "metadata": {},
   "outputs": [],
   "source": [
    "data = pd.read_csv(\"data.csv\")"
   ]
  },
  {
   "cell_type": "code",
   "execution_count": 39,
   "metadata": {},
   "outputs": [
    {
     "data": {
      "text/plain": [
       "(28474, 16)"
      ]
     },
     "execution_count": 39,
     "metadata": {},
     "output_type": "execute_result"
    }
   ],
   "source": [
    "data.shape"
   ]
  },
  {
   "cell_type": "code",
   "execution_count": 40,
   "metadata": {},
   "outputs": [
    {
     "data": {
      "text/html": [
       "<div>\n",
       "<style scoped>\n",
       "    .dataframe tbody tr th:only-of-type {\n",
       "        vertical-align: middle;\n",
       "    }\n",
       "\n",
       "    .dataframe tbody tr th {\n",
       "        vertical-align: top;\n",
       "    }\n",
       "\n",
       "    .dataframe thead th {\n",
       "        text-align: right;\n",
       "    }\n",
       "</style>\n",
       "<table border=\"1\" class=\"dataframe\">\n",
       "  <thead>\n",
       "    <tr style=\"text-align: right;\">\n",
       "      <th></th>\n",
       "      <th>City</th>\n",
       "      <th>Date</th>\n",
       "      <th>PM2.5</th>\n",
       "      <th>PM10</th>\n",
       "      <th>NO</th>\n",
       "      <th>NO2</th>\n",
       "      <th>NOx</th>\n",
       "      <th>NH3</th>\n",
       "      <th>CO</th>\n",
       "      <th>SO2</th>\n",
       "      <th>O3</th>\n",
       "      <th>Benzene</th>\n",
       "      <th>Toluene</th>\n",
       "      <th>Xylene</th>\n",
       "      <th>AQI</th>\n",
       "      <th>AQI_Bucket</th>\n",
       "    </tr>\n",
       "  </thead>\n",
       "  <tbody>\n",
       "    <tr>\n",
       "      <th>0</th>\n",
       "      <td>Ahmedabad</td>\n",
       "      <td>2015-01-01</td>\n",
       "      <td>NaN</td>\n",
       "      <td>NaN</td>\n",
       "      <td>0.92</td>\n",
       "      <td>18.22</td>\n",
       "      <td>17.15</td>\n",
       "      <td>NaN</td>\n",
       "      <td>0.92</td>\n",
       "      <td>27.64</td>\n",
       "      <td>133.36</td>\n",
       "      <td>0.00</td>\n",
       "      <td>0.02</td>\n",
       "      <td>0.00</td>\n",
       "      <td>NaN</td>\n",
       "      <td>NaN</td>\n",
       "    </tr>\n",
       "    <tr>\n",
       "      <th>1</th>\n",
       "      <td>Ahmedabad</td>\n",
       "      <td>2015-01-02</td>\n",
       "      <td>NaN</td>\n",
       "      <td>NaN</td>\n",
       "      <td>0.97</td>\n",
       "      <td>15.69</td>\n",
       "      <td>16.46</td>\n",
       "      <td>NaN</td>\n",
       "      <td>0.97</td>\n",
       "      <td>24.55</td>\n",
       "      <td>34.06</td>\n",
       "      <td>3.68</td>\n",
       "      <td>5.50</td>\n",
       "      <td>3.77</td>\n",
       "      <td>NaN</td>\n",
       "      <td>NaN</td>\n",
       "    </tr>\n",
       "    <tr>\n",
       "      <th>2</th>\n",
       "      <td>Ahmedabad</td>\n",
       "      <td>2015-01-03</td>\n",
       "      <td>NaN</td>\n",
       "      <td>NaN</td>\n",
       "      <td>17.40</td>\n",
       "      <td>19.30</td>\n",
       "      <td>29.70</td>\n",
       "      <td>NaN</td>\n",
       "      <td>17.40</td>\n",
       "      <td>29.07</td>\n",
       "      <td>30.70</td>\n",
       "      <td>6.80</td>\n",
       "      <td>16.40</td>\n",
       "      <td>2.25</td>\n",
       "      <td>NaN</td>\n",
       "      <td>NaN</td>\n",
       "    </tr>\n",
       "    <tr>\n",
       "      <th>3</th>\n",
       "      <td>Ahmedabad</td>\n",
       "      <td>2015-01-04</td>\n",
       "      <td>NaN</td>\n",
       "      <td>NaN</td>\n",
       "      <td>1.70</td>\n",
       "      <td>18.48</td>\n",
       "      <td>17.97</td>\n",
       "      <td>NaN</td>\n",
       "      <td>1.70</td>\n",
       "      <td>18.59</td>\n",
       "      <td>36.08</td>\n",
       "      <td>4.43</td>\n",
       "      <td>10.14</td>\n",
       "      <td>1.00</td>\n",
       "      <td>NaN</td>\n",
       "      <td>NaN</td>\n",
       "    </tr>\n",
       "    <tr>\n",
       "      <th>4</th>\n",
       "      <td>Ahmedabad</td>\n",
       "      <td>2015-01-05</td>\n",
       "      <td>NaN</td>\n",
       "      <td>NaN</td>\n",
       "      <td>22.10</td>\n",
       "      <td>21.42</td>\n",
       "      <td>37.76</td>\n",
       "      <td>NaN</td>\n",
       "      <td>22.10</td>\n",
       "      <td>39.33</td>\n",
       "      <td>39.31</td>\n",
       "      <td>7.01</td>\n",
       "      <td>18.89</td>\n",
       "      <td>2.78</td>\n",
       "      <td>NaN</td>\n",
       "      <td>NaN</td>\n",
       "    </tr>\n",
       "  </tbody>\n",
       "</table>\n",
       "</div>"
      ],
      "text/plain": [
       "        City        Date  PM2.5  PM10     NO    NO2    NOx  NH3     CO    SO2  \\\n",
       "0  Ahmedabad  2015-01-01    NaN   NaN   0.92  18.22  17.15  NaN   0.92  27.64   \n",
       "1  Ahmedabad  2015-01-02    NaN   NaN   0.97  15.69  16.46  NaN   0.97  24.55   \n",
       "2  Ahmedabad  2015-01-03    NaN   NaN  17.40  19.30  29.70  NaN  17.40  29.07   \n",
       "3  Ahmedabad  2015-01-04    NaN   NaN   1.70  18.48  17.97  NaN   1.70  18.59   \n",
       "4  Ahmedabad  2015-01-05    NaN   NaN  22.10  21.42  37.76  NaN  22.10  39.33   \n",
       "\n",
       "       O3  Benzene  Toluene  Xylene  AQI AQI_Bucket  \n",
       "0  133.36     0.00     0.02    0.00  NaN        NaN  \n",
       "1   34.06     3.68     5.50    3.77  NaN        NaN  \n",
       "2   30.70     6.80    16.40    2.25  NaN        NaN  \n",
       "3   36.08     4.43    10.14    1.00  NaN        NaN  \n",
       "4   39.31     7.01    18.89    2.78  NaN        NaN  "
      ]
     },
     "execution_count": 40,
     "metadata": {},
     "output_type": "execute_result"
    }
   ],
   "source": [
    "data.head()"
   ]
  },
  {
   "cell_type": "code",
   "execution_count": 41,
   "metadata": {},
   "outputs": [
    {
     "data": {
      "text/html": [
       "<div>\n",
       "<style scoped>\n",
       "    .dataframe tbody tr th:only-of-type {\n",
       "        vertical-align: middle;\n",
       "    }\n",
       "\n",
       "    .dataframe tbody tr th {\n",
       "        vertical-align: top;\n",
       "    }\n",
       "\n",
       "    .dataframe thead th {\n",
       "        text-align: right;\n",
       "    }\n",
       "</style>\n",
       "<table border=\"1\" class=\"dataframe\">\n",
       "  <thead>\n",
       "    <tr style=\"text-align: right;\">\n",
       "      <th></th>\n",
       "      <th>PM2.5</th>\n",
       "      <th>PM10</th>\n",
       "      <th>NO</th>\n",
       "      <th>NO2</th>\n",
       "      <th>NOx</th>\n",
       "      <th>NH3</th>\n",
       "      <th>CO</th>\n",
       "      <th>SO2</th>\n",
       "      <th>O3</th>\n",
       "      <th>Benzene</th>\n",
       "      <th>Toluene</th>\n",
       "      <th>Xylene</th>\n",
       "      <th>AQI</th>\n",
       "    </tr>\n",
       "  </thead>\n",
       "  <tbody>\n",
       "    <tr>\n",
       "      <th>count</th>\n",
       "      <td>23920.000000</td>\n",
       "      <td>17465.000000</td>\n",
       "      <td>25011.000000</td>\n",
       "      <td>24966.000000</td>\n",
       "      <td>24330.000000</td>\n",
       "      <td>18335.000000</td>\n",
       "      <td>26452.000000</td>\n",
       "      <td>24674.000000</td>\n",
       "      <td>24526.000000</td>\n",
       "      <td>22964.000000</td>\n",
       "      <td>20635.000000</td>\n",
       "      <td>11239.000000</td>\n",
       "      <td>23894.000000</td>\n",
       "    </tr>\n",
       "    <tr>\n",
       "      <th>mean</th>\n",
       "      <td>69.095223</td>\n",
       "      <td>121.578966</td>\n",
       "      <td>17.857667</td>\n",
       "      <td>28.959424</td>\n",
       "      <td>32.737994</td>\n",
       "      <td>23.894052</td>\n",
       "      <td>2.306848</td>\n",
       "      <td>14.758950</td>\n",
       "      <td>34.519763</td>\n",
       "      <td>3.310998</td>\n",
       "      <td>8.918763</td>\n",
       "      <td>3.063745</td>\n",
       "      <td>170.145811</td>\n",
       "    </tr>\n",
       "    <tr>\n",
       "      <th>std</th>\n",
       "      <td>65.389862</td>\n",
       "      <td>90.987310</td>\n",
       "      <td>22.585057</td>\n",
       "      <td>24.655411</td>\n",
       "      <td>31.809871</td>\n",
       "      <td>26.087108</td>\n",
       "      <td>7.088831</td>\n",
       "      <td>18.442412</td>\n",
       "      <td>21.763107</td>\n",
       "      <td>16.001572</td>\n",
       "      <td>20.241362</td>\n",
       "      <td>6.356428</td>\n",
       "      <td>142.084468</td>\n",
       "    </tr>\n",
       "    <tr>\n",
       "      <th>min</th>\n",
       "      <td>0.040000</td>\n",
       "      <td>0.010000</td>\n",
       "      <td>0.020000</td>\n",
       "      <td>0.010000</td>\n",
       "      <td>0.000000</td>\n",
       "      <td>0.010000</td>\n",
       "      <td>0.000000</td>\n",
       "      <td>0.010000</td>\n",
       "      <td>0.010000</td>\n",
       "      <td>0.000000</td>\n",
       "      <td>0.000000</td>\n",
       "      <td>0.000000</td>\n",
       "      <td>13.000000</td>\n",
       "    </tr>\n",
       "    <tr>\n",
       "      <th>25%</th>\n",
       "      <td>29.937500</td>\n",
       "      <td>59.900000</td>\n",
       "      <td>5.760000</td>\n",
       "      <td>11.982500</td>\n",
       "      <td>12.900000</td>\n",
       "      <td>8.710000</td>\n",
       "      <td>0.520000</td>\n",
       "      <td>5.640000</td>\n",
       "      <td>18.872500</td>\n",
       "      <td>0.150000</td>\n",
       "      <td>0.710000</td>\n",
       "      <td>0.140000</td>\n",
       "      <td>83.000000</td>\n",
       "    </tr>\n",
       "    <tr>\n",
       "      <th>50%</th>\n",
       "      <td>50.215000</td>\n",
       "      <td>98.820000</td>\n",
       "      <td>10.080000</td>\n",
       "      <td>22.110000</td>\n",
       "      <td>23.910000</td>\n",
       "      <td>16.170000</td>\n",
       "      <td>0.905000</td>\n",
       "      <td>9.220000</td>\n",
       "      <td>30.835000</td>\n",
       "      <td>1.120000</td>\n",
       "      <td>3.100000</td>\n",
       "      <td>0.980000</td>\n",
       "      <td>121.000000</td>\n",
       "    </tr>\n",
       "    <tr>\n",
       "      <th>75%</th>\n",
       "      <td>82.557500</td>\n",
       "      <td>152.970000</td>\n",
       "      <td>20.450000</td>\n",
       "      <td>38.050000</td>\n",
       "      <td>40.807500</td>\n",
       "      <td>30.445000</td>\n",
       "      <td>1.470000</td>\n",
       "      <td>15.560000</td>\n",
       "      <td>45.540000</td>\n",
       "      <td>3.160000</td>\n",
       "      <td>9.360000</td>\n",
       "      <td>3.340000</td>\n",
       "      <td>215.000000</td>\n",
       "    </tr>\n",
       "    <tr>\n",
       "      <th>max</th>\n",
       "      <td>949.990000</td>\n",
       "      <td>1000.000000</td>\n",
       "      <td>351.300000</td>\n",
       "      <td>362.210000</td>\n",
       "      <td>467.630000</td>\n",
       "      <td>352.890000</td>\n",
       "      <td>175.810000</td>\n",
       "      <td>193.860000</td>\n",
       "      <td>257.730000</td>\n",
       "      <td>455.030000</td>\n",
       "      <td>454.850000</td>\n",
       "      <td>170.370000</td>\n",
       "      <td>2049.000000</td>\n",
       "    </tr>\n",
       "  </tbody>\n",
       "</table>\n",
       "</div>"
      ],
      "text/plain": [
       "              PM2.5          PM10            NO           NO2           NOx  \\\n",
       "count  23920.000000  17465.000000  25011.000000  24966.000000  24330.000000   \n",
       "mean      69.095223    121.578966     17.857667     28.959424     32.737994   \n",
       "std       65.389862     90.987310     22.585057     24.655411     31.809871   \n",
       "min        0.040000      0.010000      0.020000      0.010000      0.000000   \n",
       "25%       29.937500     59.900000      5.760000     11.982500     12.900000   \n",
       "50%       50.215000     98.820000     10.080000     22.110000     23.910000   \n",
       "75%       82.557500    152.970000     20.450000     38.050000     40.807500   \n",
       "max      949.990000   1000.000000    351.300000    362.210000    467.630000   \n",
       "\n",
       "                NH3            CO           SO2            O3       Benzene  \\\n",
       "count  18335.000000  26452.000000  24674.000000  24526.000000  22964.000000   \n",
       "mean      23.894052      2.306848     14.758950     34.519763      3.310998   \n",
       "std       26.087108      7.088831     18.442412     21.763107     16.001572   \n",
       "min        0.010000      0.000000      0.010000      0.010000      0.000000   \n",
       "25%        8.710000      0.520000      5.640000     18.872500      0.150000   \n",
       "50%       16.170000      0.905000      9.220000     30.835000      1.120000   \n",
       "75%       30.445000      1.470000     15.560000     45.540000      3.160000   \n",
       "max      352.890000    175.810000    193.860000    257.730000    455.030000   \n",
       "\n",
       "            Toluene        Xylene           AQI  \n",
       "count  20635.000000  11239.000000  23894.000000  \n",
       "mean       8.918763      3.063745    170.145811  \n",
       "std       20.241362      6.356428    142.084468  \n",
       "min        0.000000      0.000000     13.000000  \n",
       "25%        0.710000      0.140000     83.000000  \n",
       "50%        3.100000      0.980000    121.000000  \n",
       "75%        9.360000      3.340000    215.000000  \n",
       "max      454.850000    170.370000   2049.000000  "
      ]
     },
     "execution_count": 41,
     "metadata": {},
     "output_type": "execute_result"
    }
   ],
   "source": [
    "data.describe()"
   ]
  },
  {
   "cell_type": "code",
   "execution_count": 42,
   "metadata": {},
   "outputs": [
    {
     "data": {
      "text/plain": [
       "City              0\n",
       "Date              0\n",
       "PM2.5          4554\n",
       "PM10          11009\n",
       "NO             3463\n",
       "NO2            3508\n",
       "NOx            4144\n",
       "NH3           10139\n",
       "CO             2022\n",
       "SO2            3800\n",
       "O3             3948\n",
       "Benzene        5510\n",
       "Toluene        7839\n",
       "Xylene        17235\n",
       "AQI            4580\n",
       "AQI_Bucket     4580\n",
       "dtype: int64"
      ]
     },
     "execution_count": 42,
     "metadata": {},
     "output_type": "execute_result"
    }
   ],
   "source": [
    "data.isnull().sum()"
   ]
  },
  {
   "cell_type": "code",
   "execution_count": 43,
   "metadata": {},
   "outputs": [],
   "source": [
    "data.drop([\"City\"],axis=1,inplace=True)"
   ]
  },
  {
   "cell_type": "code",
   "execution_count": 44,
   "metadata": {},
   "outputs": [],
   "source": [
    "data.drop([\"Date\"],axis=1,inplace=True)"
   ]
  },
  {
   "cell_type": "code",
   "execution_count": 45,
   "metadata": {},
   "outputs": [],
   "source": [
    "data.drop([\"NO\"],axis=1,inplace=True)"
   ]
  },
  {
   "cell_type": "code",
   "execution_count": 46,
   "metadata": {},
   "outputs": [],
   "source": [
    "data.drop([\"NOx\"],axis=1,inplace=True)"
   ]
  },
  {
   "cell_type": "code",
   "execution_count": 47,
   "metadata": {},
   "outputs": [],
   "source": [
    "data.drop([\"Benzene\"],axis=1,inplace=True)"
   ]
  },
  {
   "cell_type": "code",
   "execution_count": 48,
   "metadata": {},
   "outputs": [],
   "source": [
    "data.drop([\"Toluene\"],axis=1,inplace=True)"
   ]
  },
  {
   "cell_type": "code",
   "execution_count": 49,
   "metadata": {},
   "outputs": [],
   "source": [
    "data.drop([\"Xylene\"],axis=1,inplace=True)"
   ]
  },
  {
   "cell_type": "code",
   "execution_count": 50,
   "metadata": {},
   "outputs": [],
   "source": [
    "data.drop([\"AQI_Bucket\"],axis=1,inplace=True)"
   ]
  },
  {
   "cell_type": "code",
   "execution_count": 51,
   "metadata": {},
   "outputs": [
    {
     "data": {
      "text/html": [
       "<div>\n",
       "<style scoped>\n",
       "    .dataframe tbody tr th:only-of-type {\n",
       "        vertical-align: middle;\n",
       "    }\n",
       "\n",
       "    .dataframe tbody tr th {\n",
       "        vertical-align: top;\n",
       "    }\n",
       "\n",
       "    .dataframe thead th {\n",
       "        text-align: right;\n",
       "    }\n",
       "</style>\n",
       "<table border=\"1\" class=\"dataframe\">\n",
       "  <thead>\n",
       "    <tr style=\"text-align: right;\">\n",
       "      <th></th>\n",
       "      <th>PM2.5</th>\n",
       "      <th>PM10</th>\n",
       "      <th>NO2</th>\n",
       "      <th>NH3</th>\n",
       "      <th>CO</th>\n",
       "      <th>SO2</th>\n",
       "      <th>O3</th>\n",
       "      <th>AQI</th>\n",
       "    </tr>\n",
       "  </thead>\n",
       "  <tbody>\n",
       "    <tr>\n",
       "      <th>0</th>\n",
       "      <td>NaN</td>\n",
       "      <td>NaN</td>\n",
       "      <td>18.22</td>\n",
       "      <td>NaN</td>\n",
       "      <td>0.92</td>\n",
       "      <td>27.64</td>\n",
       "      <td>133.36</td>\n",
       "      <td>NaN</td>\n",
       "    </tr>\n",
       "    <tr>\n",
       "      <th>1</th>\n",
       "      <td>NaN</td>\n",
       "      <td>NaN</td>\n",
       "      <td>15.69</td>\n",
       "      <td>NaN</td>\n",
       "      <td>0.97</td>\n",
       "      <td>24.55</td>\n",
       "      <td>34.06</td>\n",
       "      <td>NaN</td>\n",
       "    </tr>\n",
       "    <tr>\n",
       "      <th>2</th>\n",
       "      <td>NaN</td>\n",
       "      <td>NaN</td>\n",
       "      <td>19.30</td>\n",
       "      <td>NaN</td>\n",
       "      <td>17.40</td>\n",
       "      <td>29.07</td>\n",
       "      <td>30.70</td>\n",
       "      <td>NaN</td>\n",
       "    </tr>\n",
       "    <tr>\n",
       "      <th>3</th>\n",
       "      <td>NaN</td>\n",
       "      <td>NaN</td>\n",
       "      <td>18.48</td>\n",
       "      <td>NaN</td>\n",
       "      <td>1.70</td>\n",
       "      <td>18.59</td>\n",
       "      <td>36.08</td>\n",
       "      <td>NaN</td>\n",
       "    </tr>\n",
       "    <tr>\n",
       "      <th>4</th>\n",
       "      <td>NaN</td>\n",
       "      <td>NaN</td>\n",
       "      <td>21.42</td>\n",
       "      <td>NaN</td>\n",
       "      <td>22.10</td>\n",
       "      <td>39.33</td>\n",
       "      <td>39.31</td>\n",
       "      <td>NaN</td>\n",
       "    </tr>\n",
       "  </tbody>\n",
       "</table>\n",
       "</div>"
      ],
      "text/plain": [
       "   PM2.5  PM10    NO2  NH3     CO    SO2      O3  AQI\n",
       "0    NaN   NaN  18.22  NaN   0.92  27.64  133.36  NaN\n",
       "1    NaN   NaN  15.69  NaN   0.97  24.55   34.06  NaN\n",
       "2    NaN   NaN  19.30  NaN  17.40  29.07   30.70  NaN\n",
       "3    NaN   NaN  18.48  NaN   1.70  18.59   36.08  NaN\n",
       "4    NaN   NaN  21.42  NaN  22.10  39.33   39.31  NaN"
      ]
     },
     "execution_count": 51,
     "metadata": {},
     "output_type": "execute_result"
    }
   ],
   "source": [
    "data.head()"
   ]
  },
  {
   "cell_type": "code",
   "execution_count": 52,
   "metadata": {},
   "outputs": [
    {
     "data": {
      "text/plain": [
       "PM2.5     4554\n",
       "PM10     11009\n",
       "NO2       3508\n",
       "NH3      10139\n",
       "CO        2022\n",
       "SO2       3800\n",
       "O3        3948\n",
       "AQI       4580\n",
       "dtype: int64"
      ]
     },
     "execution_count": 52,
     "metadata": {},
     "output_type": "execute_result"
    }
   ],
   "source": [
    "data.isnull().sum()"
   ]
  },
  {
   "cell_type": "code",
   "execution_count": 53,
   "metadata": {},
   "outputs": [],
   "source": [
    "data = data[data['AQI'].notna()]"
   ]
  },
  {
   "cell_type": "code",
   "execution_count": 54,
   "metadata": {},
   "outputs": [
    {
     "data": {
      "text/plain": [
       "PM2.5     675\n",
       "PM10     6994\n",
       "NO2       359\n",
       "NH3      6411\n",
       "CO        442\n",
       "SO2       588\n",
       "O3        770\n",
       "AQI         0\n",
       "dtype: int64"
      ]
     },
     "execution_count": 54,
     "metadata": {},
     "output_type": "execute_result"
    }
   ],
   "source": [
    "data.isnull().sum()"
   ]
  },
  {
   "cell_type": "code",
   "execution_count": 55,
   "metadata": {},
   "outputs": [],
   "source": [
    "data = data.fillna(data.mean())"
   ]
  },
  {
   "cell_type": "code",
   "execution_count": 56,
   "metadata": {},
   "outputs": [
    {
     "data": {
      "text/plain": [
       "PM2.5    0\n",
       "PM10     0\n",
       "NO2      0\n",
       "NH3      0\n",
       "CO       0\n",
       "SO2      0\n",
       "O3       0\n",
       "AQI      0\n",
       "dtype: int64"
      ]
     },
     "execution_count": 56,
     "metadata": {},
     "output_type": "execute_result"
    }
   ],
   "source": [
    "data.isnull().sum()"
   ]
  },
  {
   "cell_type": "code",
   "execution_count": 57,
   "metadata": {},
   "outputs": [
    {
     "data": {
      "text/plain": [
       "PM2.5    float64\n",
       "PM10     float64\n",
       "NO2      float64\n",
       "NH3      float64\n",
       "CO       float64\n",
       "SO2      float64\n",
       "O3       float64\n",
       "AQI      float64\n",
       "dtype: object"
      ]
     },
     "execution_count": 57,
     "metadata": {},
     "output_type": "execute_result"
    }
   ],
   "source": [
    "data.dtypes"
   ]
  },
  {
   "cell_type": "code",
   "execution_count": 58,
   "metadata": {},
   "outputs": [],
   "source": [
    "from sklearn.utils import shuffle"
   ]
  },
  {
   "cell_type": "code",
   "execution_count": 59,
   "metadata": {},
   "outputs": [],
   "source": [
    "data = shuffle(data, random_state=0)\n",
    "data = data.reset_index(drop=True)"
   ]
  },
  {
   "cell_type": "code",
   "execution_count": 60,
   "metadata": {},
   "outputs": [
    {
     "data": {
      "text/plain": [
       "0    275.0\n",
       "1    214.0\n",
       "2     90.0\n",
       "3     97.0\n",
       "4    276.0\n",
       "Name: AQI, dtype: float64"
      ]
     },
     "execution_count": 60,
     "metadata": {},
     "output_type": "execute_result"
    }
   ],
   "source": [
    "y = data[\"AQI\"]\n",
    "y.head()"
   ]
  },
  {
   "cell_type": "code",
   "execution_count": 61,
   "metadata": {},
   "outputs": [
    {
     "data": {
      "text/html": [
       "<div>\n",
       "<style scoped>\n",
       "    .dataframe tbody tr th:only-of-type {\n",
       "        vertical-align: middle;\n",
       "    }\n",
       "\n",
       "    .dataframe tbody tr th {\n",
       "        vertical-align: top;\n",
       "    }\n",
       "\n",
       "    .dataframe thead th {\n",
       "        text-align: right;\n",
       "    }\n",
       "</style>\n",
       "<table border=\"1\" class=\"dataframe\">\n",
       "  <thead>\n",
       "    <tr style=\"text-align: right;\">\n",
       "      <th></th>\n",
       "      <th>PM2.5</th>\n",
       "      <th>PM10</th>\n",
       "      <th>NO2</th>\n",
       "      <th>NH3</th>\n",
       "      <th>CO</th>\n",
       "      <th>SO2</th>\n",
       "      <th>O3</th>\n",
       "      <th>AQI</th>\n",
       "    </tr>\n",
       "  </thead>\n",
       "  <tbody>\n",
       "    <tr>\n",
       "      <th>0</th>\n",
       "      <td>123.46</td>\n",
       "      <td>194.76000</td>\n",
       "      <td>44.28</td>\n",
       "      <td>39.190000</td>\n",
       "      <td>1.22</td>\n",
       "      <td>15.38</td>\n",
       "      <td>28.15</td>\n",
       "      <td>275.0</td>\n",
       "    </tr>\n",
       "    <tr>\n",
       "      <th>1</th>\n",
       "      <td>86.62</td>\n",
       "      <td>121.91451</td>\n",
       "      <td>7.69</td>\n",
       "      <td>24.288205</td>\n",
       "      <td>1.10</td>\n",
       "      <td>42.66</td>\n",
       "      <td>47.42</td>\n",
       "      <td>214.0</td>\n",
       "    </tr>\n",
       "    <tr>\n",
       "      <th>2</th>\n",
       "      <td>24.22</td>\n",
       "      <td>79.10000</td>\n",
       "      <td>30.02</td>\n",
       "      <td>24.288205</td>\n",
       "      <td>1.36</td>\n",
       "      <td>21.32</td>\n",
       "      <td>39.09</td>\n",
       "      <td>90.0</td>\n",
       "    </tr>\n",
       "    <tr>\n",
       "      <th>3</th>\n",
       "      <td>51.28</td>\n",
       "      <td>121.91451</td>\n",
       "      <td>14.26</td>\n",
       "      <td>24.288205</td>\n",
       "      <td>1.15</td>\n",
       "      <td>4.08</td>\n",
       "      <td>17.81</td>\n",
       "      <td>97.0</td>\n",
       "    </tr>\n",
       "    <tr>\n",
       "      <th>4</th>\n",
       "      <td>121.12</td>\n",
       "      <td>121.91451</td>\n",
       "      <td>5.85</td>\n",
       "      <td>24.288205</td>\n",
       "      <td>0.81</td>\n",
       "      <td>9.51</td>\n",
       "      <td>36.44</td>\n",
       "      <td>276.0</td>\n",
       "    </tr>\n",
       "  </tbody>\n",
       "</table>\n",
       "</div>"
      ],
      "text/plain": [
       "    PM2.5       PM10    NO2        NH3    CO    SO2     O3    AQI\n",
       "0  123.46  194.76000  44.28  39.190000  1.22  15.38  28.15  275.0\n",
       "1   86.62  121.91451   7.69  24.288205  1.10  42.66  47.42  214.0\n",
       "2   24.22   79.10000  30.02  24.288205  1.36  21.32  39.09   90.0\n",
       "3   51.28  121.91451  14.26  24.288205  1.15   4.08  17.81   97.0\n",
       "4  121.12  121.91451   5.85  24.288205  0.81   9.51  36.44  276.0"
      ]
     },
     "execution_count": 61,
     "metadata": {},
     "output_type": "execute_result"
    }
   ],
   "source": [
    "x = data\n",
    "x.head()"
   ]
  },
  {
   "cell_type": "code",
   "execution_count": 62,
   "metadata": {},
   "outputs": [],
   "source": [
    "x.drop([\"AQI\"],axis=1,inplace=True)"
   ]
  },
  {
   "cell_type": "code",
   "execution_count": 63,
   "metadata": {},
   "outputs": [
    {
     "data": {
      "text/html": [
       "<div>\n",
       "<style scoped>\n",
       "    .dataframe tbody tr th:only-of-type {\n",
       "        vertical-align: middle;\n",
       "    }\n",
       "\n",
       "    .dataframe tbody tr th {\n",
       "        vertical-align: top;\n",
       "    }\n",
       "\n",
       "    .dataframe thead th {\n",
       "        text-align: right;\n",
       "    }\n",
       "</style>\n",
       "<table border=\"1\" class=\"dataframe\">\n",
       "  <thead>\n",
       "    <tr style=\"text-align: right;\">\n",
       "      <th></th>\n",
       "      <th>PM2.5</th>\n",
       "      <th>PM10</th>\n",
       "      <th>NO2</th>\n",
       "      <th>NH3</th>\n",
       "      <th>CO</th>\n",
       "      <th>SO2</th>\n",
       "      <th>O3</th>\n",
       "    </tr>\n",
       "  </thead>\n",
       "  <tbody>\n",
       "    <tr>\n",
       "      <th>0</th>\n",
       "      <td>123.46</td>\n",
       "      <td>194.76000</td>\n",
       "      <td>44.28</td>\n",
       "      <td>39.190000</td>\n",
       "      <td>1.22</td>\n",
       "      <td>15.38</td>\n",
       "      <td>28.15</td>\n",
       "    </tr>\n",
       "    <tr>\n",
       "      <th>1</th>\n",
       "      <td>86.62</td>\n",
       "      <td>121.91451</td>\n",
       "      <td>7.69</td>\n",
       "      <td>24.288205</td>\n",
       "      <td>1.10</td>\n",
       "      <td>42.66</td>\n",
       "      <td>47.42</td>\n",
       "    </tr>\n",
       "    <tr>\n",
       "      <th>2</th>\n",
       "      <td>24.22</td>\n",
       "      <td>79.10000</td>\n",
       "      <td>30.02</td>\n",
       "      <td>24.288205</td>\n",
       "      <td>1.36</td>\n",
       "      <td>21.32</td>\n",
       "      <td>39.09</td>\n",
       "    </tr>\n",
       "    <tr>\n",
       "      <th>3</th>\n",
       "      <td>51.28</td>\n",
       "      <td>121.91451</td>\n",
       "      <td>14.26</td>\n",
       "      <td>24.288205</td>\n",
       "      <td>1.15</td>\n",
       "      <td>4.08</td>\n",
       "      <td>17.81</td>\n",
       "    </tr>\n",
       "    <tr>\n",
       "      <th>4</th>\n",
       "      <td>121.12</td>\n",
       "      <td>121.91451</td>\n",
       "      <td>5.85</td>\n",
       "      <td>24.288205</td>\n",
       "      <td>0.81</td>\n",
       "      <td>9.51</td>\n",
       "      <td>36.44</td>\n",
       "    </tr>\n",
       "  </tbody>\n",
       "</table>\n",
       "</div>"
      ],
      "text/plain": [
       "    PM2.5       PM10    NO2        NH3    CO    SO2     O3\n",
       "0  123.46  194.76000  44.28  39.190000  1.22  15.38  28.15\n",
       "1   86.62  121.91451   7.69  24.288205  1.10  42.66  47.42\n",
       "2   24.22   79.10000  30.02  24.288205  1.36  21.32  39.09\n",
       "3   51.28  121.91451  14.26  24.288205  1.15   4.08  17.81\n",
       "4  121.12  121.91451   5.85  24.288205  0.81   9.51  36.44"
      ]
     },
     "execution_count": 63,
     "metadata": {},
     "output_type": "execute_result"
    }
   ],
   "source": [
    "x.head()"
   ]
  },
  {
   "cell_type": "code",
   "execution_count": 64,
   "metadata": {},
   "outputs": [],
   "source": [
    "from sklearn.preprocessing import StandardScaler"
   ]
  },
  {
   "cell_type": "code",
   "execution_count": 65,
   "metadata": {},
   "outputs": [
    {
     "name": "stdout",
     "output_type": "stream",
     "text": [
      "StandardScaler()\n"
     ]
    }
   ],
   "source": [
    "scaler = StandardScaler()\n",
    "print(scaler.fit(data))"
   ]
  },
  {
   "cell_type": "code",
   "execution_count": 66,
   "metadata": {},
   "outputs": [],
   "source": [
    "from sklearn.model_selection import train_test_split\n",
    "\n",
    "X_train,X_test,y_train,y_test = train_test_split(x, y, test_size=0.2, random_state=0)"
   ]
  },
  {
   "cell_type": "code",
   "execution_count": 67,
   "metadata": {},
   "outputs": [],
   "source": [
    "from sklearn.linear_model import LinearRegression"
   ]
  },
  {
   "cell_type": "code",
   "execution_count": 68,
   "metadata": {},
   "outputs": [],
   "source": [
    "model = LinearRegression()"
   ]
  },
  {
   "cell_type": "code",
   "execution_count": 69,
   "metadata": {},
   "outputs": [
    {
     "data": {
      "text/plain": [
       "LinearRegression()"
      ]
     },
     "execution_count": 69,
     "metadata": {},
     "output_type": "execute_result"
    }
   ],
   "source": [
    "model.fit(X_train, y_train)"
   ]
  },
  {
   "cell_type": "code",
   "execution_count": 72,
   "metadata": {},
   "outputs": [
    {
     "data": {
      "text/plain": [
       "82.49113023143175"
      ]
     },
     "execution_count": 72,
     "metadata": {},
     "output_type": "execute_result"
    }
   ],
   "source": [
    "model.score(X_test, y_test) * 100"
   ]
  },
  {
   "cell_type": "code",
   "execution_count": null,
   "metadata": {},
   "outputs": [],
   "source": []
  }
 ],
 "metadata": {
  "kernelspec": {
   "display_name": "Python 3",
   "language": "python",
   "name": "python3"
  },
  "language_info": {
   "codemirror_mode": {
    "name": "ipython",
    "version": 3
   },
   "file_extension": ".py",
   "mimetype": "text/x-python",
   "name": "python",
   "nbconvert_exporter": "python",
   "pygments_lexer": "ipython3",
   "version": "3.7.7"
  }
 },
 "nbformat": 4,
 "nbformat_minor": 4
}
