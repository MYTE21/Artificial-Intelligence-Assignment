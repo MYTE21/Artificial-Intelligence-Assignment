{
 "cells": [
  {
   "cell_type": "code",
   "execution_count": 5,
   "metadata": {},
   "outputs": [],
   "source": [
    "import pandas as pd\n",
    "import numpy as np\n",
    "import matplotlib.pyplot as plt\n",
    "import seaborn as sns\n",
    "from sklearn import metrics"
   ]
  },
  {
   "cell_type": "code",
   "execution_count": 6,
   "metadata": {},
   "outputs": [],
   "source": [
    "house_data = pd.read_csv(\"C:/Users/User/Desktop/Artificial-Intelligence-Assignment/assets/ehr/data.csv\")"
   ]
  },
  {
   "cell_type": "code",
   "execution_count": 7,
   "metadata": {},
   "outputs": [
    {
     "data": {
      "text/plain": [
       "(1460, 81)"
      ]
     },
     "execution_count": 7,
     "metadata": {},
     "output_type": "execute_result"
    }
   ],
   "source": [
    "house_data.shape"
   ]
  },
  {
   "cell_type": "code",
   "execution_count": 8,
   "metadata": {},
   "outputs": [
    {
     "data": {
      "text/html": [
       "<div>\n",
       "<style scoped>\n",
       "    .dataframe tbody tr th:only-of-type {\n",
       "        vertical-align: middle;\n",
       "    }\n",
       "\n",
       "    .dataframe tbody tr th {\n",
       "        vertical-align: top;\n",
       "    }\n",
       "\n",
       "    .dataframe thead th {\n",
       "        text-align: right;\n",
       "    }\n",
       "</style>\n",
       "<table border=\"1\" class=\"dataframe\">\n",
       "  <thead>\n",
       "    <tr style=\"text-align: right;\">\n",
       "      <th></th>\n",
       "      <th>Id</th>\n",
       "      <th>MSSubClass</th>\n",
       "      <th>MSZoning</th>\n",
       "      <th>LotFrontage</th>\n",
       "      <th>LotArea</th>\n",
       "      <th>Street</th>\n",
       "      <th>Alley</th>\n",
       "      <th>LotShape</th>\n",
       "      <th>LandContour</th>\n",
       "      <th>Utilities</th>\n",
       "      <th>...</th>\n",
       "      <th>PoolArea</th>\n",
       "      <th>PoolQC</th>\n",
       "      <th>Fence</th>\n",
       "      <th>MiscFeature</th>\n",
       "      <th>MiscVal</th>\n",
       "      <th>MoSold</th>\n",
       "      <th>YrSold</th>\n",
       "      <th>SaleType</th>\n",
       "      <th>SaleCondition</th>\n",
       "      <th>SalePrice</th>\n",
       "    </tr>\n",
       "  </thead>\n",
       "  <tbody>\n",
       "    <tr>\n",
       "      <th>0</th>\n",
       "      <td>1</td>\n",
       "      <td>60</td>\n",
       "      <td>RL</td>\n",
       "      <td>65.0</td>\n",
       "      <td>8450</td>\n",
       "      <td>Pave</td>\n",
       "      <td>NaN</td>\n",
       "      <td>Reg</td>\n",
       "      <td>Lvl</td>\n",
       "      <td>AllPub</td>\n",
       "      <td>...</td>\n",
       "      <td>0</td>\n",
       "      <td>NaN</td>\n",
       "      <td>NaN</td>\n",
       "      <td>NaN</td>\n",
       "      <td>0</td>\n",
       "      <td>2</td>\n",
       "      <td>2008</td>\n",
       "      <td>WD</td>\n",
       "      <td>Normal</td>\n",
       "      <td>208500</td>\n",
       "    </tr>\n",
       "    <tr>\n",
       "      <th>1</th>\n",
       "      <td>2</td>\n",
       "      <td>20</td>\n",
       "      <td>RL</td>\n",
       "      <td>80.0</td>\n",
       "      <td>9600</td>\n",
       "      <td>Pave</td>\n",
       "      <td>NaN</td>\n",
       "      <td>Reg</td>\n",
       "      <td>Lvl</td>\n",
       "      <td>AllPub</td>\n",
       "      <td>...</td>\n",
       "      <td>0</td>\n",
       "      <td>NaN</td>\n",
       "      <td>NaN</td>\n",
       "      <td>NaN</td>\n",
       "      <td>0</td>\n",
       "      <td>5</td>\n",
       "      <td>2007</td>\n",
       "      <td>WD</td>\n",
       "      <td>Normal</td>\n",
       "      <td>181500</td>\n",
       "    </tr>\n",
       "    <tr>\n",
       "      <th>2</th>\n",
       "      <td>3</td>\n",
       "      <td>60</td>\n",
       "      <td>RL</td>\n",
       "      <td>68.0</td>\n",
       "      <td>11250</td>\n",
       "      <td>Pave</td>\n",
       "      <td>NaN</td>\n",
       "      <td>IR1</td>\n",
       "      <td>Lvl</td>\n",
       "      <td>AllPub</td>\n",
       "      <td>...</td>\n",
       "      <td>0</td>\n",
       "      <td>NaN</td>\n",
       "      <td>NaN</td>\n",
       "      <td>NaN</td>\n",
       "      <td>0</td>\n",
       "      <td>9</td>\n",
       "      <td>2008</td>\n",
       "      <td>WD</td>\n",
       "      <td>Normal</td>\n",
       "      <td>223500</td>\n",
       "    </tr>\n",
       "    <tr>\n",
       "      <th>3</th>\n",
       "      <td>4</td>\n",
       "      <td>70</td>\n",
       "      <td>RL</td>\n",
       "      <td>60.0</td>\n",
       "      <td>9550</td>\n",
       "      <td>Pave</td>\n",
       "      <td>NaN</td>\n",
       "      <td>IR1</td>\n",
       "      <td>Lvl</td>\n",
       "      <td>AllPub</td>\n",
       "      <td>...</td>\n",
       "      <td>0</td>\n",
       "      <td>NaN</td>\n",
       "      <td>NaN</td>\n",
       "      <td>NaN</td>\n",
       "      <td>0</td>\n",
       "      <td>2</td>\n",
       "      <td>2006</td>\n",
       "      <td>WD</td>\n",
       "      <td>Abnorml</td>\n",
       "      <td>140000</td>\n",
       "    </tr>\n",
       "    <tr>\n",
       "      <th>4</th>\n",
       "      <td>5</td>\n",
       "      <td>60</td>\n",
       "      <td>RL</td>\n",
       "      <td>84.0</td>\n",
       "      <td>14260</td>\n",
       "      <td>Pave</td>\n",
       "      <td>NaN</td>\n",
       "      <td>IR1</td>\n",
       "      <td>Lvl</td>\n",
       "      <td>AllPub</td>\n",
       "      <td>...</td>\n",
       "      <td>0</td>\n",
       "      <td>NaN</td>\n",
       "      <td>NaN</td>\n",
       "      <td>NaN</td>\n",
       "      <td>0</td>\n",
       "      <td>12</td>\n",
       "      <td>2008</td>\n",
       "      <td>WD</td>\n",
       "      <td>Normal</td>\n",
       "      <td>250000</td>\n",
       "    </tr>\n",
       "  </tbody>\n",
       "</table>\n",
       "<p>5 rows × 81 columns</p>\n",
       "</div>"
      ],
      "text/plain": [
       "   Id  MSSubClass MSZoning  LotFrontage  LotArea Street Alley LotShape  \\\n",
       "0   1          60       RL         65.0     8450   Pave   NaN      Reg   \n",
       "1   2          20       RL         80.0     9600   Pave   NaN      Reg   \n",
       "2   3          60       RL         68.0    11250   Pave   NaN      IR1   \n",
       "3   4          70       RL         60.0     9550   Pave   NaN      IR1   \n",
       "4   5          60       RL         84.0    14260   Pave   NaN      IR1   \n",
       "\n",
       "  LandContour Utilities  ... PoolArea PoolQC Fence MiscFeature MiscVal MoSold  \\\n",
       "0         Lvl    AllPub  ...        0    NaN   NaN         NaN       0      2   \n",
       "1         Lvl    AllPub  ...        0    NaN   NaN         NaN       0      5   \n",
       "2         Lvl    AllPub  ...        0    NaN   NaN         NaN       0      9   \n",
       "3         Lvl    AllPub  ...        0    NaN   NaN         NaN       0      2   \n",
       "4         Lvl    AllPub  ...        0    NaN   NaN         NaN       0     12   \n",
       "\n",
       "  YrSold  SaleType  SaleCondition  SalePrice  \n",
       "0   2008        WD         Normal     208500  \n",
       "1   2007        WD         Normal     181500  \n",
       "2   2008        WD         Normal     223500  \n",
       "3   2006        WD        Abnorml     140000  \n",
       "4   2008        WD         Normal     250000  \n",
       "\n",
       "[5 rows x 81 columns]"
      ]
     },
     "execution_count": 8,
     "metadata": {},
     "output_type": "execute_result"
    }
   ],
   "source": [
    "house_data.head()"
   ]
  },
  {
   "cell_type": "code",
   "execution_count": 9,
   "metadata": {},
   "outputs": [
    {
     "data": {
      "text/html": [
       "<div>\n",
       "<style scoped>\n",
       "    .dataframe tbody tr th:only-of-type {\n",
       "        vertical-align: middle;\n",
       "    }\n",
       "\n",
       "    .dataframe tbody tr th {\n",
       "        vertical-align: top;\n",
       "    }\n",
       "\n",
       "    .dataframe thead th {\n",
       "        text-align: right;\n",
       "    }\n",
       "</style>\n",
       "<table border=\"1\" class=\"dataframe\">\n",
       "  <thead>\n",
       "    <tr style=\"text-align: right;\">\n",
       "      <th></th>\n",
       "      <th>Id</th>\n",
       "      <th>MSSubClass</th>\n",
       "      <th>LotFrontage</th>\n",
       "      <th>LotArea</th>\n",
       "      <th>OverallQual</th>\n",
       "      <th>OverallCond</th>\n",
       "      <th>YearBuilt</th>\n",
       "      <th>YearRemodAdd</th>\n",
       "      <th>MasVnrArea</th>\n",
       "      <th>BsmtFinSF1</th>\n",
       "      <th>...</th>\n",
       "      <th>WoodDeckSF</th>\n",
       "      <th>OpenPorchSF</th>\n",
       "      <th>EnclosedPorch</th>\n",
       "      <th>3SsnPorch</th>\n",
       "      <th>ScreenPorch</th>\n",
       "      <th>PoolArea</th>\n",
       "      <th>MiscVal</th>\n",
       "      <th>MoSold</th>\n",
       "      <th>YrSold</th>\n",
       "      <th>SalePrice</th>\n",
       "    </tr>\n",
       "  </thead>\n",
       "  <tbody>\n",
       "    <tr>\n",
       "      <th>count</th>\n",
       "      <td>1460.000000</td>\n",
       "      <td>1460.000000</td>\n",
       "      <td>1201.000000</td>\n",
       "      <td>1460.000000</td>\n",
       "      <td>1460.000000</td>\n",
       "      <td>1460.000000</td>\n",
       "      <td>1460.000000</td>\n",
       "      <td>1460.000000</td>\n",
       "      <td>1452.000000</td>\n",
       "      <td>1460.000000</td>\n",
       "      <td>...</td>\n",
       "      <td>1460.000000</td>\n",
       "      <td>1460.000000</td>\n",
       "      <td>1460.000000</td>\n",
       "      <td>1460.000000</td>\n",
       "      <td>1460.000000</td>\n",
       "      <td>1460.000000</td>\n",
       "      <td>1460.000000</td>\n",
       "      <td>1460.000000</td>\n",
       "      <td>1460.000000</td>\n",
       "      <td>1460.000000</td>\n",
       "    </tr>\n",
       "    <tr>\n",
       "      <th>mean</th>\n",
       "      <td>730.500000</td>\n",
       "      <td>56.897260</td>\n",
       "      <td>70.049958</td>\n",
       "      <td>10516.828082</td>\n",
       "      <td>6.099315</td>\n",
       "      <td>5.575342</td>\n",
       "      <td>1971.267808</td>\n",
       "      <td>1984.865753</td>\n",
       "      <td>103.685262</td>\n",
       "      <td>443.639726</td>\n",
       "      <td>...</td>\n",
       "      <td>94.244521</td>\n",
       "      <td>46.660274</td>\n",
       "      <td>21.954110</td>\n",
       "      <td>3.409589</td>\n",
       "      <td>15.060959</td>\n",
       "      <td>2.758904</td>\n",
       "      <td>43.489041</td>\n",
       "      <td>6.321918</td>\n",
       "      <td>2007.815753</td>\n",
       "      <td>180921.195890</td>\n",
       "    </tr>\n",
       "    <tr>\n",
       "      <th>std</th>\n",
       "      <td>421.610009</td>\n",
       "      <td>42.300571</td>\n",
       "      <td>24.284752</td>\n",
       "      <td>9981.264932</td>\n",
       "      <td>1.382997</td>\n",
       "      <td>1.112799</td>\n",
       "      <td>30.202904</td>\n",
       "      <td>20.645407</td>\n",
       "      <td>181.066207</td>\n",
       "      <td>456.098091</td>\n",
       "      <td>...</td>\n",
       "      <td>125.338794</td>\n",
       "      <td>66.256028</td>\n",
       "      <td>61.119149</td>\n",
       "      <td>29.317331</td>\n",
       "      <td>55.757415</td>\n",
       "      <td>40.177307</td>\n",
       "      <td>496.123024</td>\n",
       "      <td>2.703626</td>\n",
       "      <td>1.328095</td>\n",
       "      <td>79442.502883</td>\n",
       "    </tr>\n",
       "    <tr>\n",
       "      <th>min</th>\n",
       "      <td>1.000000</td>\n",
       "      <td>20.000000</td>\n",
       "      <td>21.000000</td>\n",
       "      <td>1300.000000</td>\n",
       "      <td>1.000000</td>\n",
       "      <td>1.000000</td>\n",
       "      <td>1872.000000</td>\n",
       "      <td>1950.000000</td>\n",
       "      <td>0.000000</td>\n",
       "      <td>0.000000</td>\n",
       "      <td>...</td>\n",
       "      <td>0.000000</td>\n",
       "      <td>0.000000</td>\n",
       "      <td>0.000000</td>\n",
       "      <td>0.000000</td>\n",
       "      <td>0.000000</td>\n",
       "      <td>0.000000</td>\n",
       "      <td>0.000000</td>\n",
       "      <td>1.000000</td>\n",
       "      <td>2006.000000</td>\n",
       "      <td>34900.000000</td>\n",
       "    </tr>\n",
       "    <tr>\n",
       "      <th>25%</th>\n",
       "      <td>365.750000</td>\n",
       "      <td>20.000000</td>\n",
       "      <td>59.000000</td>\n",
       "      <td>7553.500000</td>\n",
       "      <td>5.000000</td>\n",
       "      <td>5.000000</td>\n",
       "      <td>1954.000000</td>\n",
       "      <td>1967.000000</td>\n",
       "      <td>0.000000</td>\n",
       "      <td>0.000000</td>\n",
       "      <td>...</td>\n",
       "      <td>0.000000</td>\n",
       "      <td>0.000000</td>\n",
       "      <td>0.000000</td>\n",
       "      <td>0.000000</td>\n",
       "      <td>0.000000</td>\n",
       "      <td>0.000000</td>\n",
       "      <td>0.000000</td>\n",
       "      <td>5.000000</td>\n",
       "      <td>2007.000000</td>\n",
       "      <td>129975.000000</td>\n",
       "    </tr>\n",
       "    <tr>\n",
       "      <th>50%</th>\n",
       "      <td>730.500000</td>\n",
       "      <td>50.000000</td>\n",
       "      <td>69.000000</td>\n",
       "      <td>9478.500000</td>\n",
       "      <td>6.000000</td>\n",
       "      <td>5.000000</td>\n",
       "      <td>1973.000000</td>\n",
       "      <td>1994.000000</td>\n",
       "      <td>0.000000</td>\n",
       "      <td>383.500000</td>\n",
       "      <td>...</td>\n",
       "      <td>0.000000</td>\n",
       "      <td>25.000000</td>\n",
       "      <td>0.000000</td>\n",
       "      <td>0.000000</td>\n",
       "      <td>0.000000</td>\n",
       "      <td>0.000000</td>\n",
       "      <td>0.000000</td>\n",
       "      <td>6.000000</td>\n",
       "      <td>2008.000000</td>\n",
       "      <td>163000.000000</td>\n",
       "    </tr>\n",
       "    <tr>\n",
       "      <th>75%</th>\n",
       "      <td>1095.250000</td>\n",
       "      <td>70.000000</td>\n",
       "      <td>80.000000</td>\n",
       "      <td>11601.500000</td>\n",
       "      <td>7.000000</td>\n",
       "      <td>6.000000</td>\n",
       "      <td>2000.000000</td>\n",
       "      <td>2004.000000</td>\n",
       "      <td>166.000000</td>\n",
       "      <td>712.250000</td>\n",
       "      <td>...</td>\n",
       "      <td>168.000000</td>\n",
       "      <td>68.000000</td>\n",
       "      <td>0.000000</td>\n",
       "      <td>0.000000</td>\n",
       "      <td>0.000000</td>\n",
       "      <td>0.000000</td>\n",
       "      <td>0.000000</td>\n",
       "      <td>8.000000</td>\n",
       "      <td>2009.000000</td>\n",
       "      <td>214000.000000</td>\n",
       "    </tr>\n",
       "    <tr>\n",
       "      <th>max</th>\n",
       "      <td>1460.000000</td>\n",
       "      <td>190.000000</td>\n",
       "      <td>313.000000</td>\n",
       "      <td>215245.000000</td>\n",
       "      <td>10.000000</td>\n",
       "      <td>9.000000</td>\n",
       "      <td>2010.000000</td>\n",
       "      <td>2010.000000</td>\n",
       "      <td>1600.000000</td>\n",
       "      <td>5644.000000</td>\n",
       "      <td>...</td>\n",
       "      <td>857.000000</td>\n",
       "      <td>547.000000</td>\n",
       "      <td>552.000000</td>\n",
       "      <td>508.000000</td>\n",
       "      <td>480.000000</td>\n",
       "      <td>738.000000</td>\n",
       "      <td>15500.000000</td>\n",
       "      <td>12.000000</td>\n",
       "      <td>2010.000000</td>\n",
       "      <td>755000.000000</td>\n",
       "    </tr>\n",
       "  </tbody>\n",
       "</table>\n",
       "<p>8 rows × 38 columns</p>\n",
       "</div>"
      ],
      "text/plain": [
       "                Id   MSSubClass  LotFrontage        LotArea  OverallQual  \\\n",
       "count  1460.000000  1460.000000  1201.000000    1460.000000  1460.000000   \n",
       "mean    730.500000    56.897260    70.049958   10516.828082     6.099315   \n",
       "std     421.610009    42.300571    24.284752    9981.264932     1.382997   \n",
       "min       1.000000    20.000000    21.000000    1300.000000     1.000000   \n",
       "25%     365.750000    20.000000    59.000000    7553.500000     5.000000   \n",
       "50%     730.500000    50.000000    69.000000    9478.500000     6.000000   \n",
       "75%    1095.250000    70.000000    80.000000   11601.500000     7.000000   \n",
       "max    1460.000000   190.000000   313.000000  215245.000000    10.000000   \n",
       "\n",
       "       OverallCond    YearBuilt  YearRemodAdd   MasVnrArea   BsmtFinSF1  ...  \\\n",
       "count  1460.000000  1460.000000   1460.000000  1452.000000  1460.000000  ...   \n",
       "mean      5.575342  1971.267808   1984.865753   103.685262   443.639726  ...   \n",
       "std       1.112799    30.202904     20.645407   181.066207   456.098091  ...   \n",
       "min       1.000000  1872.000000   1950.000000     0.000000     0.000000  ...   \n",
       "25%       5.000000  1954.000000   1967.000000     0.000000     0.000000  ...   \n",
       "50%       5.000000  1973.000000   1994.000000     0.000000   383.500000  ...   \n",
       "75%       6.000000  2000.000000   2004.000000   166.000000   712.250000  ...   \n",
       "max       9.000000  2010.000000   2010.000000  1600.000000  5644.000000  ...   \n",
       "\n",
       "        WoodDeckSF  OpenPorchSF  EnclosedPorch    3SsnPorch  ScreenPorch  \\\n",
       "count  1460.000000  1460.000000    1460.000000  1460.000000  1460.000000   \n",
       "mean     94.244521    46.660274      21.954110     3.409589    15.060959   \n",
       "std     125.338794    66.256028      61.119149    29.317331    55.757415   \n",
       "min       0.000000     0.000000       0.000000     0.000000     0.000000   \n",
       "25%       0.000000     0.000000       0.000000     0.000000     0.000000   \n",
       "50%       0.000000    25.000000       0.000000     0.000000     0.000000   \n",
       "75%     168.000000    68.000000       0.000000     0.000000     0.000000   \n",
       "max     857.000000   547.000000     552.000000   508.000000   480.000000   \n",
       "\n",
       "          PoolArea       MiscVal       MoSold       YrSold      SalePrice  \n",
       "count  1460.000000   1460.000000  1460.000000  1460.000000    1460.000000  \n",
       "mean      2.758904     43.489041     6.321918  2007.815753  180921.195890  \n",
       "std      40.177307    496.123024     2.703626     1.328095   79442.502883  \n",
       "min       0.000000      0.000000     1.000000  2006.000000   34900.000000  \n",
       "25%       0.000000      0.000000     5.000000  2007.000000  129975.000000  \n",
       "50%       0.000000      0.000000     6.000000  2008.000000  163000.000000  \n",
       "75%       0.000000      0.000000     8.000000  2009.000000  214000.000000  \n",
       "max     738.000000  15500.000000    12.000000  2010.000000  755000.000000  \n",
       "\n",
       "[8 rows x 38 columns]"
      ]
     },
     "execution_count": 9,
     "metadata": {},
     "output_type": "execute_result"
    }
   ],
   "source": [
    "house_data.describe()"
   ]
  },
  {
   "cell_type": "code",
   "execution_count": 10,
   "metadata": {},
   "outputs": [
    {
     "data": {
      "text/plain": [
       "Index(['Id', 'MSSubClass', 'MSZoning', 'LotFrontage', 'LotArea', 'Street',\n",
       "       'Alley', 'LotShape', 'LandContour', 'Utilities', 'LotConfig',\n",
       "       'LandSlope', 'Neighborhood', 'Condition1', 'Condition2', 'BldgType',\n",
       "       'HouseStyle', 'OverallQual', 'OverallCond', 'YearBuilt', 'YearRemodAdd',\n",
       "       'RoofStyle', 'RoofMatl', 'Exterior1st', 'Exterior2nd', 'MasVnrType',\n",
       "       'MasVnrArea', 'ExterQual', 'ExterCond', 'Foundation', 'BsmtQual',\n",
       "       'BsmtCond', 'BsmtExposure', 'BsmtFinType1', 'BsmtFinSF1',\n",
       "       'BsmtFinType2', 'BsmtFinSF2', 'BsmtUnfSF', 'TotalBsmtSF', 'Heating',\n",
       "       'HeatingQC', 'CentralAir', 'Electrical', '1stFlrSF', '2ndFlrSF',\n",
       "       'LowQualFinSF', 'GrLivArea', 'BsmtFullBath', 'BsmtHalfBath', 'FullBath',\n",
       "       'HalfBath', 'BedroomAbvGr', 'KitchenAbvGr', 'KitchenQual',\n",
       "       'TotRmsAbvGrd', 'Functional', 'Fireplaces', 'FireplaceQu', 'GarageType',\n",
       "       'GarageYrBlt', 'GarageFinish', 'GarageCars', 'GarageArea', 'GarageQual',\n",
       "       'GarageCond', 'PavedDrive', 'WoodDeckSF', 'OpenPorchSF',\n",
       "       'EnclosedPorch', '3SsnPorch', 'ScreenPorch', 'PoolArea', 'PoolQC',\n",
       "       'Fence', 'MiscFeature', 'MiscVal', 'MoSold', 'YrSold', 'SaleType',\n",
       "       'SaleCondition', 'SalePrice'],\n",
       "      dtype='object')"
      ]
     },
     "execution_count": 10,
     "metadata": {},
     "output_type": "execute_result"
    }
   ],
   "source": [
    "house_data.columns"
   ]
  },
  {
   "cell_type": "code",
   "execution_count": 11,
   "metadata": {},
   "outputs": [],
   "source": [
    "data = pd.DataFrame()"
   ]
  },
  {
   "cell_type": "code",
   "execution_count": 12,
   "metadata": {},
   "outputs": [
    {
     "data": {
      "text/plain": [
       "pandas.core.frame.DataFrame"
      ]
     },
     "execution_count": 12,
     "metadata": {},
     "output_type": "execute_result"
    }
   ],
   "source": [
    "type(data)"
   ]
  },
  {
   "cell_type": "code",
   "execution_count": 13,
   "metadata": {},
   "outputs": [],
   "source": [
    "data[\"GrLivArea\"] = house_data[\"GrLivArea\"]"
   ]
  },
  {
   "cell_type": "code",
   "execution_count": 14,
   "metadata": {},
   "outputs": [],
   "source": [
    "data[\"TotalBsmtSF\"] = house_data[\"TotalBsmtSF\"]"
   ]
  },
  {
   "cell_type": "code",
   "execution_count": 15,
   "metadata": {},
   "outputs": [],
   "source": [
    "data[\"SalePrice\"] = house_data[\"SalePrice\"]"
   ]
  },
  {
   "cell_type": "code",
   "execution_count": 16,
   "metadata": {},
   "outputs": [
    {
     "data": {
      "text/plain": [
       "(1460, 3)"
      ]
     },
     "execution_count": 16,
     "metadata": {},
     "output_type": "execute_result"
    }
   ],
   "source": [
    "data.shape"
   ]
  },
  {
   "cell_type": "code",
   "execution_count": 17,
   "metadata": {},
   "outputs": [
    {
     "data": {
      "text/html": [
       "<div>\n",
       "<style scoped>\n",
       "    .dataframe tbody tr th:only-of-type {\n",
       "        vertical-align: middle;\n",
       "    }\n",
       "\n",
       "    .dataframe tbody tr th {\n",
       "        vertical-align: top;\n",
       "    }\n",
       "\n",
       "    .dataframe thead th {\n",
       "        text-align: right;\n",
       "    }\n",
       "</style>\n",
       "<table border=\"1\" class=\"dataframe\">\n",
       "  <thead>\n",
       "    <tr style=\"text-align: right;\">\n",
       "      <th></th>\n",
       "      <th>GrLivArea</th>\n",
       "      <th>TotalBsmtSF</th>\n",
       "      <th>SalePrice</th>\n",
       "    </tr>\n",
       "  </thead>\n",
       "  <tbody>\n",
       "    <tr>\n",
       "      <th>0</th>\n",
       "      <td>1710</td>\n",
       "      <td>856</td>\n",
       "      <td>208500</td>\n",
       "    </tr>\n",
       "    <tr>\n",
       "      <th>1</th>\n",
       "      <td>1262</td>\n",
       "      <td>1262</td>\n",
       "      <td>181500</td>\n",
       "    </tr>\n",
       "    <tr>\n",
       "      <th>2</th>\n",
       "      <td>1786</td>\n",
       "      <td>920</td>\n",
       "      <td>223500</td>\n",
       "    </tr>\n",
       "    <tr>\n",
       "      <th>3</th>\n",
       "      <td>1717</td>\n",
       "      <td>756</td>\n",
       "      <td>140000</td>\n",
       "    </tr>\n",
       "    <tr>\n",
       "      <th>4</th>\n",
       "      <td>2198</td>\n",
       "      <td>1145</td>\n",
       "      <td>250000</td>\n",
       "    </tr>\n",
       "  </tbody>\n",
       "</table>\n",
       "</div>"
      ],
      "text/plain": [
       "   GrLivArea  TotalBsmtSF  SalePrice\n",
       "0       1710          856     208500\n",
       "1       1262         1262     181500\n",
       "2       1786          920     223500\n",
       "3       1717          756     140000\n",
       "4       2198         1145     250000"
      ]
     },
     "execution_count": 17,
     "metadata": {},
     "output_type": "execute_result"
    }
   ],
   "source": [
    "data.head()"
   ]
  },
  {
   "cell_type": "code",
   "execution_count": 18,
   "metadata": {},
   "outputs": [
    {
     "data": {
      "text/plain": [
       "GrLivArea      0\n",
       "TotalBsmtSF    0\n",
       "SalePrice      0\n",
       "dtype: int64"
      ]
     },
     "execution_count": 18,
     "metadata": {},
     "output_type": "execute_result"
    }
   ],
   "source": [
    "data.isnull().sum()"
   ]
  },
  {
   "cell_type": "code",
   "execution_count": 19,
   "metadata": {},
   "outputs": [
    {
     "data": {
      "image/png": "[encoded data removed]",
      "text/plain": [
       "<Figure size 432x288 with 1 Axes>"
      ]
     },
     "metadata": {
      "needs_background": "light"
     },
     "output_type": "display_data"
    }
   ],
   "source": [
    "sns.distplot(data)\n",
    "\n",
    "plt.show()"
   ]
  },
  {
   "cell_type": "code",
   "execution_count": 20,
   "metadata": {},
   "outputs": [
    {
     "data": {
      "text/plain": [
       "<bound method DataFrame.count of       GrLivArea  TotalBsmtSF  SalePrice\n",
       "0          1710          856     208500\n",
       "1          1262         1262     181500\n",
       "2          1786          920     223500\n",
       "3          1717          756     140000\n",
       "4          2198         1145     250000\n",
       "...         ...          ...        ...\n",
       "1455       1647          953     175000\n",
       "1456       2073         1542     210000\n",
       "1457       2340         1152     266500\n",
       "1458       1078         1078     142125\n",
       "1459       1256         1256     147500\n",
       "\n",
       "[1460 rows x 3 columns]>"
      ]
     },
     "execution_count": 20,
     "metadata": {},
     "output_type": "execute_result"
    },
    {
     "data": {
      "image/png": "[encoded data removed]",
      "text/plain": [
       "<Figure size 432x288 with 2 Axes>"
      ]
     },
     "metadata": {
      "needs_background": "light"
     },
     "output_type": "display_data"
    }
   ],
   "source": [
    "sns.heatmap(data.isnull())\n",
    "data.count"
   ]
  },
  {
   "cell_type": "code",
   "execution_count": 21,
   "metadata": {},
   "outputs": [
    {
     "data": {
      "text/plain": [
       "<seaborn.axisgrid.PairGrid at 0x150123f89c8>"
      ]
     },
     "execution_count": 21,
     "metadata": {},
     "output_type": "execute_result"
    },
    {
     "data": {
      "image/png": "[encoded data removed]",
      "text/plain": [
       "<Figure size 540x540 with 12 Axes>"
      ]
     },
     "metadata": {
      "needs_background": "light"
     },
     "output_type": "display_data"
    }
   ],
   "source": [
    "sns.pairplot(data)"
   ]
  },
  {
   "cell_type": "code",
   "execution_count": 22,
   "metadata": {},
   "outputs": [],
   "source": [
    "from sklearn.utils import shuffle"
   ]
  },
  {
   "cell_type": "code",
   "execution_count": 23,
   "metadata": {},
   "outputs": [],
   "source": [
    "data = shuffle(data, random_state=0)\n",
    "data = data.reset_index(drop=True)"
   ]
  },
  {
   "cell_type": "code",
   "execution_count": 24,
   "metadata": {},
   "outputs": [],
   "source": [
    "y = data[\"SalePrice\"]"
   ]
  },
  {
   "cell_type": "code",
   "execution_count": 25,
   "metadata": {},
   "outputs": [],
   "source": [
    "data.drop([\"SalePrice\"],axis=1,inplace=True)"
   ]
  },
  {
   "cell_type": "code",
   "execution_count": 26,
   "metadata": {},
   "outputs": [],
   "source": [
    "x = data"
   ]
  },
  {
   "cell_type": "code",
   "execution_count": 27,
   "metadata": {},
   "outputs": [
    {
     "data": {
      "text/html": [
       "<div>\n",
       "<style scoped>\n",
       "    .dataframe tbody tr th:only-of-type {\n",
       "        vertical-align: middle;\n",
       "    }\n",
       "\n",
       "    .dataframe tbody tr th {\n",
       "        vertical-align: top;\n",
       "    }\n",
       "\n",
       "    .dataframe thead th {\n",
       "        text-align: right;\n",
       "    }\n",
       "</style>\n",
       "<table border=\"1\" class=\"dataframe\">\n",
       "  <thead>\n",
       "    <tr style=\"text-align: right;\">\n",
       "      <th></th>\n",
       "      <th>GrLivArea</th>\n",
       "      <th>TotalBsmtSF</th>\n",
       "    </tr>\n",
       "  </thead>\n",
       "  <tbody>\n",
       "    <tr>\n",
       "      <th>0</th>\n",
       "      <td>2515</td>\n",
       "      <td>2035</td>\n",
       "    </tr>\n",
       "    <tr>\n",
       "      <th>1</th>\n",
       "      <td>1578</td>\n",
       "      <td>806</td>\n",
       "    </tr>\n",
       "    <tr>\n",
       "      <th>2</th>\n",
       "      <td>1203</td>\n",
       "      <td>709</td>\n",
       "    </tr>\n",
       "    <tr>\n",
       "      <th>3</th>\n",
       "      <td>2022</td>\n",
       "      <td>1160</td>\n",
       "    </tr>\n",
       "    <tr>\n",
       "      <th>4</th>\n",
       "      <td>1092</td>\n",
       "      <td>525</td>\n",
       "    </tr>\n",
       "  </tbody>\n",
       "</table>\n",
       "</div>"
      ],
      "text/plain": [
       "   GrLivArea  TotalBsmtSF\n",
       "0       2515         2035\n",
       "1       1578          806\n",
       "2       1203          709\n",
       "3       2022         1160\n",
       "4       1092          525"
      ]
     },
     "execution_count": 27,
     "metadata": {},
     "output_type": "execute_result"
    }
   ],
   "source": [
    "x.head()"
   ]
  },
  {
   "cell_type": "code",
   "execution_count": 28,
   "metadata": {},
   "outputs": [],
   "source": [
    "from sklearn.model_selection import train_test_split\n",
    "\n",
    "X_train,X_test,y_train,y_test = train_test_split(x, y, test_size=0.2, random_state=0)"
   ]
  },
  {
   "cell_type": "code",
   "execution_count": 33,
   "metadata": {},
   "outputs": [
    {
     "name": "stderr",
     "output_type": "stream",
     "text": [
      "Using TensorFlow backend.\n"
     ]
    }
   ],
   "source": [
    "#import the libraries\n",
    "import keras\n",
    "from keras.models import Sequential\n",
    "from keras.layers import Dense\n",
    "from keras.layers import LeakyReLU,PReLU,ELU\n",
    "from keras.layers import Dropout"
   ]
  },
  {
   "cell_type": "code",
   "execution_count": 34,
   "metadata": {},
   "outputs": [
    {
     "name": "stdout",
     "output_type": "stream",
     "text": [
      "Model: \"sequential_1\"\n",
      "_________________________________________________________________\n",
      "Layer (type)                 Output Shape              Param #   \n",
      "=================================================================\n",
      "dense_1 (Dense)              (None, 128)               384       \n",
      "_________________________________________________________________\n",
      "dense_2 (Dense)              (None, 256)               33024     \n",
      "_________________________________________________________________\n",
      "dense_3 (Dense)              (None, 256)               65792     \n",
      "_________________________________________________________________\n",
      "dense_4 (Dense)              (None, 256)               65792     \n",
      "_________________________________________________________________\n",
      "dense_5 (Dense)              (None, 256)               65792     \n",
      "_________________________________________________________________\n",
      "dense_6 (Dense)              (None, 256)               65792     \n",
      "_________________________________________________________________\n",
      "dense_7 (Dense)              (None, 1)                 257       \n",
      "=================================================================\n",
      "Total params: 296,833\n",
      "Trainable params: 296,833\n",
      "Non-trainable params: 0\n",
      "_________________________________________________________________\n"
     ]
    }
   ],
   "source": [
    "#make the model\n",
    "nuralNetworkModel = Sequential()\n",
    "\n",
    "# The Input Layer :\n",
    "nuralNetworkModel.add(Dense(128, kernel_initializer='normal',input_dim = X_train.shape[1], activation='relu'))\n",
    "\n",
    "# The Hidden Layers :\n",
    "nuralNetworkModel.add(Dense(256, kernel_initializer='normal',activation='relu'))\n",
    "nuralNetworkModel.add(Dense(256, kernel_initializer='normal',activation='relu'))\n",
    "nuralNetworkModel.add(Dense(256, kernel_initializer='normal',activation='relu'))\n",
    "nuralNetworkModel.add(Dense(256, kernel_initializer='normal',activation='relu'))\n",
    "nuralNetworkModel.add(Dense(256, kernel_initializer='normal',activation='relu'))\n",
    "\n",
    "# The Output Layer :\n",
    "nuralNetworkModel.add(Dense(1, kernel_initializer='normal',activation='linear'))\n",
    "\n",
    "# Compile the network :\n",
    "nuralNetworkModel.compile(loss='mean_absolute_error', optimizer='adam', metrics=['mean_absolute_error'])\n",
    "nuralNetworkModel.summary()"
   ]
  },
  {
   "cell_type": "code",
   "execution_count": 35,
   "metadata": {},
   "outputs": [
    {
     "name": "stdout",
     "output_type": "stream",
     "text": [
      "Train on 782 samples, validate on 386 samples\n",
      "Epoch 1/100\n",
      "782/782 [==============================] - 0s 497us/step - loss: 75863.3911 - mean_absolute_error: 75863.3828 - val_loss: 41261.1379 - val_mean_absolute_error: 41261.1406\n",
      "Epoch 2/100\n",
      "782/782 [==============================] - 0s 409us/step - loss: 33926.1753 - mean_absolute_error: 33926.1758 - val_loss: 32148.5229 - val_mean_absolute_error: 32148.5215\n",
      "Epoch 3/100\n",
      "782/782 [==============================] - 0s 408us/step - loss: 33434.5102 - mean_absolute_error: 33434.5078 - val_loss: 32170.1132 - val_mean_absolute_error: 32170.1094\n",
      "Epoch 4/100\n",
      "782/782 [==============================] - ETA: 0s - loss: 32958.6712 - mean_absolute_error: 32958.679 - 0s 436us/step - loss: 33309.5795 - mean_absolute_error: 33309.5820 - val_loss: 32161.2413 - val_mean_absolute_error: 32161.2402\n",
      "Epoch 5/100\n",
      "782/782 [==============================] - 0s 359us/step - loss: 33701.6629 - mean_absolute_error: 33701.6719 - val_loss: 35379.4255 - val_mean_absolute_error: 35379.4258\n",
      "Epoch 6/100\n",
      "782/782 [==============================] - 0s 331us/step - loss: 35981.6138 - mean_absolute_error: 35981.6172 - val_loss: 32140.3586 - val_mean_absolute_error: 32140.3594\n",
      "Epoch 7/100\n",
      "782/782 [==============================] - 0s 357us/step - loss: 36354.0968 - mean_absolute_error: 36354.0938 - val_loss: 35758.9661 - val_mean_absolute_error: 35758.9648\n",
      "Epoch 8/100\n",
      "782/782 [==============================] - 0s 298us/step - loss: 36682.6173 - mean_absolute_error: 36682.6211 - val_loss: 33881.1664 - val_mean_absolute_error: 33881.1602\n",
      "Epoch 9/100\n",
      "782/782 [==============================] - 0s 497us/step - loss: 33345.5024 - mean_absolute_error: 33345.4961 - val_loss: 32381.9658 - val_mean_absolute_error: 32381.9629\n",
      "Epoch 10/100\n",
      "782/782 [==============================] - 0s 286us/step - loss: 35452.4274 - mean_absolute_error: 35452.4219 - val_loss: 33049.1874 - val_mean_absolute_error: 33049.1875\n",
      "Epoch 11/100\n",
      "782/782 [==============================] - 0s 294us/step - loss: 33724.9140 - mean_absolute_error: 33724.9062 - val_loss: 32730.6881 - val_mean_absolute_error: 32730.6914\n",
      "Epoch 12/100\n",
      "782/782 [==============================] - 0s 496us/step - loss: 36147.8258 - mean_absolute_error: 36147.8203 - val_loss: 38748.9568 - val_mean_absolute_error: 38748.9570\n",
      "Epoch 13/100\n",
      "782/782 [==============================] - 0s 464us/step - loss: 34394.7297 - mean_absolute_error: 34394.7305 - val_loss: 34508.2610 - val_mean_absolute_error: 34508.2578\n",
      "Epoch 14/100\n",
      "782/782 [==============================] - 0s 340us/step - loss: 35591.6536 - mean_absolute_error: 35591.6562 - val_loss: 32442.2381 - val_mean_absolute_error: 32442.2402\n",
      "Epoch 15/100\n",
      "782/782 [==============================] - 0s 386us/step - loss: 33369.4075 - mean_absolute_error: 33369.4062 - val_loss: 32446.7047 - val_mean_absolute_error: 32446.6992\n",
      "Epoch 16/100\n",
      "782/782 [==============================] - 0s 295us/step - loss: 33192.3458 - mean_absolute_error: 33192.3438 - val_loss: 32721.1438 - val_mean_absolute_error: 32721.1445\n",
      "Epoch 17/100\n",
      "782/782 [==============================] - 0s 283us/step - loss: 37226.9310 - mean_absolute_error: 37226.9375 - val_loss: 37671.1710 - val_mean_absolute_error: 37671.1719\n",
      "Epoch 18/100\n",
      "782/782 [==============================] - 0s 251us/step - loss: 35502.1987 - mean_absolute_error: 35502.2070 - val_loss: 32702.9890 - val_mean_absolute_error: 32702.9902\n",
      "Epoch 19/100\n",
      "782/782 [==============================] - 0s 290us/step - loss: 34223.1422 - mean_absolute_error: 34223.1484 - val_loss: 32215.5951 - val_mean_absolute_error: 32215.6016\n",
      "Epoch 20/100\n",
      "782/782 [==============================] - 0s 284us/step - loss: 33773.5900 - mean_absolute_error: 33773.5859 - val_loss: 35818.5229 - val_mean_absolute_error: 35818.5273\n",
      "Epoch 21/100\n",
      "782/782 [==============================] - 0s 320us/step - loss: 34086.7052 - mean_absolute_error: 34086.6992 - val_loss: 32310.9360 - val_mean_absolute_error: 32310.9375\n",
      "Epoch 22/100\n",
      "782/782 [==============================] - 0s 335us/step - loss: 33730.3015 - mean_absolute_error: 33730.3008 - val_loss: 36353.0456 - val_mean_absolute_error: 36353.0508\n",
      "Epoch 23/100\n",
      "782/782 [==============================] - 0s 280us/step - loss: 35522.7644 - mean_absolute_error: 35522.7578 - val_loss: 33203.7022 - val_mean_absolute_error: 33203.7031\n",
      "Epoch 24/100\n",
      "782/782 [==============================] - 0s 276us/step - loss: 33645.0547 - mean_absolute_error: 33645.0586 - val_loss: 34628.6757 - val_mean_absolute_error: 34628.6719\n",
      "Epoch 25/100\n",
      "782/782 [==============================] - 0s 272us/step - loss: 33088.9510 - mean_absolute_error: 33088.9531 - val_loss: 33094.9239 - val_mean_absolute_error: 33094.9219\n",
      "Epoch 26/100\n",
      "782/782 [==============================] - 0s 317us/step - loss: 33466.8311 - mean_absolute_error: 33466.8359 - val_loss: 35153.4772 - val_mean_absolute_error: 35153.4844\n",
      "Epoch 27/100\n",
      "782/782 [==============================] - 0s 292us/step - loss: 36325.6834 - mean_absolute_error: 36325.6758 - val_loss: 34322.8686 - val_mean_absolute_error: 34322.8711\n",
      "Epoch 28/100\n",
      "782/782 [==============================] - 0s 290us/step - loss: 34063.0600 - mean_absolute_error: 34063.0625 - val_loss: 32403.6112 - val_mean_absolute_error: 32403.6113\n",
      "Epoch 29/100\n",
      "782/782 [==============================] - 0s 271us/step - loss: 34732.7446 - mean_absolute_error: 34732.7461 - val_loss: 40728.9780 - val_mean_absolute_error: 40728.9727\n",
      "Epoch 30/100\n",
      "782/782 [==============================] - 0s 279us/step - loss: 34994.9373 - mean_absolute_error: 34994.9453 - val_loss: 32269.0356 - val_mean_absolute_error: 32269.0391\n",
      "Epoch 31/100\n",
      "782/782 [==============================] - 0s 292us/step - loss: 34142.8768 - mean_absolute_error: 34142.8750 - val_loss: 33314.9519 - val_mean_absolute_error: 33314.9414\n",
      "Epoch 32/100\n",
      "782/782 [==============================] - 0s 261us/step - loss: 34161.2946 - mean_absolute_error: 34161.2930 - val_loss: 35736.8661 - val_mean_absolute_error: 35736.8672\n",
      "Epoch 33/100\n",
      "782/782 [==============================] - 0s 270us/step - loss: 34778.8390 - mean_absolute_error: 34778.8438 - val_loss: 37163.2036 - val_mean_absolute_error: 37163.2031\n",
      "Epoch 34/100\n",
      "782/782 [==============================] - 0s 289us/step - loss: 33334.8645 - mean_absolute_error: 33334.8633 - val_loss: 33317.0795 - val_mean_absolute_error: 33317.0781\n",
      "Epoch 35/100\n",
      "782/782 [==============================] - 0s 289us/step - loss: 34849.1538 - mean_absolute_error: 34849.1523 - val_loss: 37871.7919 - val_mean_absolute_error: 37871.8008\n",
      "Epoch 36/100\n",
      "782/782 [==============================] - 0s 270us/step - loss: 34188.3355 - mean_absolute_error: 34188.3359 - val_loss: 32427.5272 - val_mean_absolute_error: 32427.5293\n",
      "Epoch 37/100\n",
      "782/782 [==============================] - 0s 267us/step - loss: 34304.2118 - mean_absolute_error: 34304.2188 - val_loss: 35244.5313 - val_mean_absolute_error: 35244.5312\n",
      "Epoch 38/100\n",
      "782/782 [==============================] - 0s 376us/step - loss: 34594.5204 - mean_absolute_error: 34594.5156 - val_loss: 37358.1335 - val_mean_absolute_error: 37358.1328\n",
      "Epoch 39/100\n",
      "782/782 [==============================] - 0s 285us/step - loss: 35115.3296 - mean_absolute_error: 35115.3242 - val_loss: 35259.7719 - val_mean_absolute_error: 35259.7695\n",
      "Epoch 40/100\n",
      "782/782 [==============================] - 0s 563us/step - loss: 35509.3861 - mean_absolute_error: 35509.3945 - val_loss: 35308.8587 - val_mean_absolute_error: 35308.8633\n",
      "Epoch 41/100\n",
      "782/782 [==============================] - 0s 276us/step - loss: 36192.9175 - mean_absolute_error: 36192.9180 - val_loss: 34701.6721 - val_mean_absolute_error: 34701.6719\n",
      "Epoch 42/100\n",
      "782/782 [==============================] - 0s 244us/step - loss: 33095.3462 - mean_absolute_error: 33095.3477 - val_loss: 37427.1160 - val_mean_absolute_error: 37427.1211\n",
      "Epoch 43/100\n",
      "782/782 [==============================] - 0s 257us/step - loss: 34303.1009 - mean_absolute_error: 34303.0938 - val_loss: 35269.6634 - val_mean_absolute_error: 35269.6641\n",
      "Epoch 44/100\n",
      "782/782 [==============================] - 0s 248us/step - loss: 34160.3803 - mean_absolute_error: 34160.3828 - val_loss: 35711.1461 - val_mean_absolute_error: 35711.1484\n"
     ]
    },
    {
     "name": "stdout",
     "output_type": "stream",
     "text": [
      "Epoch 45/100\n",
      "782/782 [==============================] - 0s 275us/step - loss: 34009.1011 - mean_absolute_error: 34009.1016 - val_loss: 36155.2324 - val_mean_absolute_error: 36155.2344\n",
      "Epoch 46/100\n",
      "782/782 [==============================] - 0s 246us/step - loss: 33426.3843 - mean_absolute_error: 33426.3867 - val_loss: 32099.5424 - val_mean_absolute_error: 32099.5410\n",
      "Epoch 47/100\n",
      "782/782 [==============================] - 0s 482us/step - loss: 34030.4372 - mean_absolute_error: 34030.4375 - val_loss: 35850.0686 - val_mean_absolute_error: 35850.0703\n",
      "Epoch 48/100\n",
      "782/782 [==============================] - 0s 307us/step - loss: 33285.4693 - mean_absolute_error: 33285.4648 - val_loss: 33806.3971 - val_mean_absolute_error: 33806.4023\n",
      "Epoch 49/100\n",
      "782/782 [==============================] - 0s 316us/step - loss: 33595.7992 - mean_absolute_error: 33595.8086 - val_loss: 34509.6667 - val_mean_absolute_error: 34509.6641\n",
      "Epoch 50/100\n",
      "782/782 [==============================] - 0s 440us/step - loss: 34245.5936 - mean_absolute_error: 34245.5898 - val_loss: 32316.2695 - val_mean_absolute_error: 32316.2695\n",
      "Epoch 51/100\n",
      "782/782 [==============================] - 0s 275us/step - loss: 35045.5855 - mean_absolute_error: 35045.5859 - val_loss: 32196.3729 - val_mean_absolute_error: 32196.3730\n",
      "Epoch 52/100\n",
      "782/782 [==============================] - 0s 246us/step - loss: 33678.9994 - mean_absolute_error: 33679.0039 - val_loss: 35371.2891 - val_mean_absolute_error: 35371.2891\n",
      "Epoch 53/100\n",
      "782/782 [==============================] - 0s 276us/step - loss: 34708.7258 - mean_absolute_error: 34708.7188 - val_loss: 34849.6653 - val_mean_absolute_error: 34849.6641\n",
      "Epoch 54/100\n",
      "782/782 [==============================] - 0s 249us/step - loss: 34347.9414 - mean_absolute_error: 34347.9375 - val_loss: 32182.4506 - val_mean_absolute_error: 32182.4453\n",
      "Epoch 55/100\n",
      "782/782 [==============================] - 0s 271us/step - loss: 33471.1172 - mean_absolute_error: 33471.1172 - val_loss: 34728.7900 - val_mean_absolute_error: 34728.7891\n",
      "Epoch 56/100\n",
      "782/782 [==============================] - 0s 254us/step - loss: 33708.2205 - mean_absolute_error: 33708.2188 - val_loss: 32747.3913 - val_mean_absolute_error: 32747.3867\n",
      "Epoch 57/100\n",
      "782/782 [==============================] - 0s 265us/step - loss: 34678.3639 - mean_absolute_error: 34678.3594 - val_loss: 34693.4040 - val_mean_absolute_error: 34693.3984\n",
      "Epoch 58/100\n",
      "782/782 [==============================] - 0s 258us/step - loss: 35467.9269 - mean_absolute_error: 35467.9297 - val_loss: 33284.5361 - val_mean_absolute_error: 33284.5430\n",
      "Epoch 59/100\n",
      "782/782 [==============================] - 0s 247us/step - loss: 34482.3472 - mean_absolute_error: 34482.3477 - val_loss: 35713.7604 - val_mean_absolute_error: 35713.7578\n",
      "Epoch 60/100\n",
      "782/782 [==============================] - 0s 248us/step - loss: 33585.1278 - mean_absolute_error: 33585.1211 - val_loss: 37425.5629 - val_mean_absolute_error: 37425.5664\n",
      "Epoch 61/100\n",
      "782/782 [==============================] - 0s 252us/step - loss: 33797.6727 - mean_absolute_error: 33797.6719 - val_loss: 35455.7085 - val_mean_absolute_error: 35455.7109\n",
      "Epoch 62/100\n",
      "782/782 [==============================] - 0s 251us/step - loss: 33834.1563 - mean_absolute_error: 33834.1484 - val_loss: 33660.4302 - val_mean_absolute_error: 33660.4258\n",
      "Epoch 63/100\n",
      "782/782 [==============================] - 0s 252us/step - loss: 33942.5884 - mean_absolute_error: 33942.5820 - val_loss: 34275.1887 - val_mean_absolute_error: 34275.1875\n",
      "Epoch 64/100\n",
      "782/782 [==============================] - 0s 248us/step - loss: 34323.3196 - mean_absolute_error: 34323.3164 - val_loss: 34553.6656 - val_mean_absolute_error: 34553.6641\n",
      "Epoch 65/100\n",
      "782/782 [==============================] - 0s 267us/step - loss: 35900.5195 - mean_absolute_error: 35900.5195 - val_loss: 37279.5940 - val_mean_absolute_error: 37279.5938\n",
      "Epoch 66/100\n",
      "782/782 [==============================] - 0s 252us/step - loss: 34311.0807 - mean_absolute_error: 34311.0859 - val_loss: 32370.4263 - val_mean_absolute_error: 32370.4258\n",
      "Epoch 67/100\n",
      "782/782 [==============================] - 0s 272us/step - loss: 34136.0404 - mean_absolute_error: 34136.0391 - val_loss: 38447.1959 - val_mean_absolute_error: 38447.1992\n",
      "Epoch 68/100\n",
      "782/782 [==============================] - 0s 248us/step - loss: 35184.6836 - mean_absolute_error: 35184.6836 - val_loss: 35798.9149 - val_mean_absolute_error: 35798.9141\n",
      "Epoch 69/100\n",
      "782/782 [==============================] - 0s 257us/step - loss: 33279.1885 - mean_absolute_error: 33279.1875 - val_loss: 35434.3722 - val_mean_absolute_error: 35434.3789\n",
      "Epoch 70/100\n",
      "782/782 [==============================] - 0s 279us/step - loss: 34028.4175 - mean_absolute_error: 34028.4141 - val_loss: 34990.4294 - val_mean_absolute_error: 34990.4297\n",
      "Epoch 71/100\n",
      "782/782 [==============================] - 0s 285us/step - loss: 34346.3584 - mean_absolute_error: 34346.3516 - val_loss: 32212.8354 - val_mean_absolute_error: 32212.8359\n",
      "Epoch 72/100\n",
      "782/782 [==============================] - 0s 285us/step - loss: 33600.9797 - mean_absolute_error: 33600.9727 - val_loss: 32149.0938 - val_mean_absolute_error: 32149.0957\n",
      "Epoch 73/100\n",
      "782/782 [==============================] - 0s 285us/step - loss: 33173.6649 - mean_absolute_error: 33173.6641 - val_loss: 32512.1100 - val_mean_absolute_error: 32512.1055\n",
      "Epoch 74/100\n",
      "782/782 [==============================] - 0s 289us/step - loss: 33878.5176 - mean_absolute_error: 33878.5156 - val_loss: 35440.8866 - val_mean_absolute_error: 35440.8867\n",
      "Epoch 75/100\n",
      "782/782 [==============================] - 0s 263us/step - loss: 33448.6533 - mean_absolute_error: 33448.6484 - val_loss: 32086.6413 - val_mean_absolute_error: 32086.6406\n",
      "Epoch 76/100\n",
      "782/782 [==============================] - 0s 244us/step - loss: 33618.4558 - mean_absolute_error: 33618.4531 - val_loss: 32660.4121 - val_mean_absolute_error: 32660.4062\n",
      "Epoch 77/100\n",
      "782/782 [==============================] - 0s 248us/step - loss: 32927.8264 - mean_absolute_error: 32927.8203 - val_loss: 32453.5341 - val_mean_absolute_error: 32453.5312\n",
      "Epoch 78/100\n",
      "782/782 [==============================] - 0s 243us/step - loss: 33309.8902 - mean_absolute_error: 33309.8906 - val_loss: 34494.3826 - val_mean_absolute_error: 34494.3867\n",
      "Epoch 79/100\n",
      "782/782 [==============================] - 0s 555us/step - loss: 33514.1882 - mean_absolute_error: 33514.1797 - val_loss: 32230.7672 - val_mean_absolute_error: 32230.7695\n",
      "Epoch 80/100\n",
      "782/782 [==============================] - 0s 262us/step - loss: 33304.1867 - mean_absolute_error: 33304.1836 - val_loss: 32439.5367 - val_mean_absolute_error: 32439.5469\n",
      "Epoch 81/100\n",
      "782/782 [==============================] - 0s 262us/step - loss: 34832.2706 - mean_absolute_error: 34832.2656 - val_loss: 32049.3077 - val_mean_absolute_error: 32049.3086\n",
      "Epoch 82/100\n",
      "782/782 [==============================] - 0s 263us/step - loss: 33003.2844 - mean_absolute_error: 33003.2812 - val_loss: 33338.2825 - val_mean_absolute_error: 33338.2812\n",
      "Epoch 83/100\n",
      "782/782 [==============================] - 0s 243us/step - loss: 33669.3122 - mean_absolute_error: 33669.3164 - val_loss: 32127.2018 - val_mean_absolute_error: 32127.1973\n",
      "Epoch 84/100\n",
      "782/782 [==============================] - 0s 257us/step - loss: 33553.0620 - mean_absolute_error: 33553.0625 - val_loss: 32390.4148 - val_mean_absolute_error: 32390.4141\n",
      "Epoch 85/100\n",
      "782/782 [==============================] - 0s 350us/step - loss: 34486.3653 - mean_absolute_error: 34486.3672 - val_loss: 32134.5014 - val_mean_absolute_error: 32134.4922\n",
      "Epoch 86/100\n",
      "782/782 [==============================] - 0s 341us/step - loss: 32938.0778 - mean_absolute_error: 32938.0742 - val_loss: 32898.8592 - val_mean_absolute_error: 32898.8594\n",
      "Epoch 87/100\n",
      "782/782 [==============================] - 0s 261us/step - loss: 33286.6389 - mean_absolute_error: 33286.6406 - val_loss: 32789.8665 - val_mean_absolute_error: 32789.8633\n",
      "Epoch 88/100\n",
      "782/782 [==============================] - 0s 248us/step - loss: 34178.1080 - mean_absolute_error: 34178.1133 - val_loss: 34003.6186 - val_mean_absolute_error: 34003.6211\n",
      "Epoch 89/100\n"
     ]
    },
    {
     "name": "stdout",
     "output_type": "stream",
     "text": [
      "782/782 [==============================] - 0s 251us/step - loss: 33660.0548 - mean_absolute_error: 33660.0547 - val_loss: 35972.2749 - val_mean_absolute_error: 35972.2734\n",
      "Epoch 90/100\n",
      "782/782 [==============================] - 0s 249us/step - loss: 35901.5756 - mean_absolute_error: 35901.5781 - val_loss: 32699.2489 - val_mean_absolute_error: 32699.2441\n",
      "Epoch 91/100\n",
      "782/782 [==============================] - 0s 248us/step - loss: 33970.9399 - mean_absolute_error: 33970.9375 - val_loss: 32091.9686 - val_mean_absolute_error: 32091.9688\n",
      "Epoch 92/100\n",
      "782/782 [==============================] - 0s 269us/step - loss: 33605.0393 - mean_absolute_error: 33605.0352 - val_loss: 33396.9518 - val_mean_absolute_error: 33396.9492\n",
      "Epoch 93/100\n",
      "782/782 [==============================] - 0s 258us/step - loss: 33753.6637 - mean_absolute_error: 33753.6602 - val_loss: 35241.0745 - val_mean_absolute_error: 35241.0742\n",
      "Epoch 94/100\n",
      "782/782 [==============================] - 0s 253us/step - loss: 35968.9591 - mean_absolute_error: 35968.9609 - val_loss: 34830.5398 - val_mean_absolute_error: 34830.5352\n",
      "Epoch 95/100\n",
      "782/782 [==============================] - 0s 266us/step - loss: 35355.2493 - mean_absolute_error: 35355.2500 - val_loss: 32191.4808 - val_mean_absolute_error: 32191.4785\n",
      "Epoch 96/100\n",
      "782/782 [==============================] - 0s 247us/step - loss: 32954.9840 - mean_absolute_error: 32954.9844 - val_loss: 32095.7537 - val_mean_absolute_error: 32095.7539\n",
      "Epoch 97/100\n",
      "782/782 [==============================] - 0s 263us/step - loss: 33377.1626 - mean_absolute_error: 33377.1602 - val_loss: 32076.9475 - val_mean_absolute_error: 32076.9473\n",
      "Epoch 98/100\n",
      "782/782 [==============================] - 0s 272us/step - loss: 33707.4417 - mean_absolute_error: 33707.4375 - val_loss: 33420.2912 - val_mean_absolute_error: 33420.2891\n",
      "Epoch 99/100\n",
      "782/782 [==============================] - 0s 272us/step - loss: 33246.5614 - mean_absolute_error: 33246.5586 - val_loss: 32181.9678 - val_mean_absolute_error: 32181.9629\n",
      "Epoch 100/100\n",
      "782/782 [==============================] - 0s 260us/step - loss: 33122.4291 - mean_absolute_error: 33122.4375 - val_loss: 32484.9269 - val_mean_absolute_error: 32484.9199\n"
     ]
    },
    {
     "data": {
      "text/plain": [
       "<keras.callbacks.callbacks.History at 0x15019d668c8>"
      ]
     },
     "execution_count": 35,
     "metadata": {},
     "output_type": "execute_result"
    }
   ],
   "source": [
    "nuralNetworkModel.fit(X_train, y_train,validation_split=0.33, batch_size = 10, epochs = 100)"
   ]
  },
  {
   "cell_type": "code",
   "execution_count": 36,
   "metadata": {},
   "outputs": [],
   "source": [
    "predictValues = nuralNetworkModel.predict(X_test)"
   ]
  },
  {
   "cell_type": "code",
   "execution_count": 37,
   "metadata": {},
   "outputs": [
    {
     "name": "stdout",
     "output_type": "stream",
     "text": [
      "MAE: 31700.987719392124\n",
      "MSE: 2227330288.530057\n",
      "RMSE: 47194.60020521476\n"
     ]
    }
   ],
   "source": [
    "from sklearn import metrics\n",
    "print('MAE:', metrics.mean_absolute_error(y_test, predictValues))\n",
    "print('MSE:', metrics.mean_squared_error(y_test, predictValues))\n",
    "print('RMSE:', np.sqrt(metrics.mean_squared_error(y_test, predictValues)))"
   ]
  },
  {
   "cell_type": "code",
   "execution_count": null,
   "metadata": {},
   "outputs": [],
   "source": []
  }
 ],
 "metadata": {
  "kernelspec": {
   "display_name": "Python 3",
   "language": "python",
   "name": "python3"
  },
  "language_info": {
   "codemirror_mode": {
    "name": "ipython",
    "version": 3
   },
   "file_extension": ".py",
   "mimetype": "text/x-python",
   "name": "python",
   "nbconvert_exporter": "python",
   "pygments_lexer": "ipython3",
   "version": "3.7.7"
  }
 },
 "nbformat": 4,
 "nbformat_minor": 4
}