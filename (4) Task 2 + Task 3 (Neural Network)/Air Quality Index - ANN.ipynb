{
 "cells": [
  {
   "cell_type": "code",
   "execution_count": 46,
   "metadata": {},
   "outputs": [],
   "source": [
    "import pandas as pd\n",
    "import numpy as np"
   ]
  },
  {
   "cell_type": "code",
   "execution_count": 8,
   "metadata": {},
   "outputs": [],
   "source": [
    "data = pd.read_csv(\"data.csv\")"
   ]
  },
  {
   "cell_type": "code",
   "execution_count": 9,
   "metadata": {},
   "outputs": [
    {
     "data": {
      "text/plain": [
       "(28474, 16)"
      ]
     },
     "execution_count": 9,
     "metadata": {},
     "output_type": "execute_result"
    }
   ],
   "source": [
    "data.shape"
   ]
  },
  {
   "cell_type": "code",
   "execution_count": 10,
   "metadata": {},
   "outputs": [
    {
     "data": {
      "text/html": [
       "<div>\n",
       "<style scoped>\n",
       "    .dataframe tbody tr th:only-of-type {\n",
       "        vertical-align: middle;\n",
       "    }\n",
       "\n",
       "    .dataframe tbody tr th {\n",
       "        vertical-align: top;\n",
       "    }\n",
       "\n",
       "    .dataframe thead th {\n",
       "        text-align: right;\n",
       "    }\n",
       "</style>\n",
       "<table border=\"1\" class=\"dataframe\">\n",
       "  <thead>\n",
       "    <tr style=\"text-align: right;\">\n",
       "      <th></th>\n",
       "      <th>City</th>\n",
       "      <th>Date</th>\n",
       "      <th>PM2.5</th>\n",
       "      <th>PM10</th>\n",
       "      <th>NO</th>\n",
       "      <th>NO2</th>\n",
       "      <th>NOx</th>\n",
       "      <th>NH3</th>\n",
       "      <th>CO</th>\n",
       "      <th>SO2</th>\n",
       "      <th>O3</th>\n",
       "      <th>Benzene</th>\n",
       "      <th>Toluene</th>\n",
       "      <th>Xylene</th>\n",
       "      <th>AQI</th>\n",
       "      <th>AQI_Bucket</th>\n",
       "    </tr>\n",
       "  </thead>\n",
       "  <tbody>\n",
       "    <tr>\n",
       "      <th>0</th>\n",
       "      <td>Ahmedabad</td>\n",
       "      <td>2015-01-01</td>\n",
       "      <td>NaN</td>\n",
       "      <td>NaN</td>\n",
       "      <td>0.92</td>\n",
       "      <td>18.22</td>\n",
       "      <td>17.15</td>\n",
       "      <td>NaN</td>\n",
       "      <td>0.92</td>\n",
       "      <td>27.64</td>\n",
       "      <td>133.36</td>\n",
       "      <td>0.00</td>\n",
       "      <td>0.02</td>\n",
       "      <td>0.00</td>\n",
       "      <td>NaN</td>\n",
       "      <td>NaN</td>\n",
       "    </tr>\n",
       "    <tr>\n",
       "      <th>1</th>\n",
       "      <td>Ahmedabad</td>\n",
       "      <td>2015-01-02</td>\n",
       "      <td>NaN</td>\n",
       "      <td>NaN</td>\n",
       "      <td>0.97</td>\n",
       "      <td>15.69</td>\n",
       "      <td>16.46</td>\n",
       "      <td>NaN</td>\n",
       "      <td>0.97</td>\n",
       "      <td>24.55</td>\n",
       "      <td>34.06</td>\n",
       "      <td>3.68</td>\n",
       "      <td>5.50</td>\n",
       "      <td>3.77</td>\n",
       "      <td>NaN</td>\n",
       "      <td>NaN</td>\n",
       "    </tr>\n",
       "    <tr>\n",
       "      <th>2</th>\n",
       "      <td>Ahmedabad</td>\n",
       "      <td>2015-01-03</td>\n",
       "      <td>NaN</td>\n",
       "      <td>NaN</td>\n",
       "      <td>17.40</td>\n",
       "      <td>19.30</td>\n",
       "      <td>29.70</td>\n",
       "      <td>NaN</td>\n",
       "      <td>17.40</td>\n",
       "      <td>29.07</td>\n",
       "      <td>30.70</td>\n",
       "      <td>6.80</td>\n",
       "      <td>16.40</td>\n",
       "      <td>2.25</td>\n",
       "      <td>NaN</td>\n",
       "      <td>NaN</td>\n",
       "    </tr>\n",
       "    <tr>\n",
       "      <th>3</th>\n",
       "      <td>Ahmedabad</td>\n",
       "      <td>2015-01-04</td>\n",
       "      <td>NaN</td>\n",
       "      <td>NaN</td>\n",
       "      <td>1.70</td>\n",
       "      <td>18.48</td>\n",
       "      <td>17.97</td>\n",
       "      <td>NaN</td>\n",
       "      <td>1.70</td>\n",
       "      <td>18.59</td>\n",
       "      <td>36.08</td>\n",
       "      <td>4.43</td>\n",
       "      <td>10.14</td>\n",
       "      <td>1.00</td>\n",
       "      <td>NaN</td>\n",
       "      <td>NaN</td>\n",
       "    </tr>\n",
       "    <tr>\n",
       "      <th>4</th>\n",
       "      <td>Ahmedabad</td>\n",
       "      <td>2015-01-05</td>\n",
       "      <td>NaN</td>\n",
       "      <td>NaN</td>\n",
       "      <td>22.10</td>\n",
       "      <td>21.42</td>\n",
       "      <td>37.76</td>\n",
       "      <td>NaN</td>\n",
       "      <td>22.10</td>\n",
       "      <td>39.33</td>\n",
       "      <td>39.31</td>\n",
       "      <td>7.01</td>\n",
       "      <td>18.89</td>\n",
       "      <td>2.78</td>\n",
       "      <td>NaN</td>\n",
       "      <td>NaN</td>\n",
       "    </tr>\n",
       "  </tbody>\n",
       "</table>\n",
       "</div>"
      ],
      "text/plain": [
       "        City        Date  PM2.5  PM10     NO    NO2    NOx  NH3     CO    SO2  \\\n",
       "0  Ahmedabad  2015-01-01    NaN   NaN   0.92  18.22  17.15  NaN   0.92  27.64   \n",
       "1  Ahmedabad  2015-01-02    NaN   NaN   0.97  15.69  16.46  NaN   0.97  24.55   \n",
       "2  Ahmedabad  2015-01-03    NaN   NaN  17.40  19.30  29.70  NaN  17.40  29.07   \n",
       "3  Ahmedabad  2015-01-04    NaN   NaN   1.70  18.48  17.97  NaN   1.70  18.59   \n",
       "4  Ahmedabad  2015-01-05    NaN   NaN  22.10  21.42  37.76  NaN  22.10  39.33   \n",
       "\n",
       "       O3  Benzene  Toluene  Xylene  AQI AQI_Bucket  \n",
       "0  133.36     0.00     0.02    0.00  NaN        NaN  \n",
       "1   34.06     3.68     5.50    3.77  NaN        NaN  \n",
       "2   30.70     6.80    16.40    2.25  NaN        NaN  \n",
       "3   36.08     4.43    10.14    1.00  NaN        NaN  \n",
       "4   39.31     7.01    18.89    2.78  NaN        NaN  "
      ]
     },
     "execution_count": 10,
     "metadata": {},
     "output_type": "execute_result"
    }
   ],
   "source": [
    "data.head()"
   ]
  },
  {
   "cell_type": "code",
   "execution_count": 11,
   "metadata": {},
   "outputs": [
    {
     "data": {
      "text/html": [
       "<div>\n",
       "<style scoped>\n",
       "    .dataframe tbody tr th:only-of-type {\n",
       "        vertical-align: middle;\n",
       "    }\n",
       "\n",
       "    .dataframe tbody tr th {\n",
       "        vertical-align: top;\n",
       "    }\n",
       "\n",
       "    .dataframe thead th {\n",
       "        text-align: right;\n",
       "    }\n",
       "</style>\n",
       "<table border=\"1\" class=\"dataframe\">\n",
       "  <thead>\n",
       "    <tr style=\"text-align: right;\">\n",
       "      <th></th>\n",
       "      <th>PM2.5</th>\n",
       "      <th>PM10</th>\n",
       "      <th>NO</th>\n",
       "      <th>NO2</th>\n",
       "      <th>NOx</th>\n",
       "      <th>NH3</th>\n",
       "      <th>CO</th>\n",
       "      <th>SO2</th>\n",
       "      <th>O3</th>\n",
       "      <th>Benzene</th>\n",
       "      <th>Toluene</th>\n",
       "      <th>Xylene</th>\n",
       "      <th>AQI</th>\n",
       "    </tr>\n",
       "  </thead>\n",
       "  <tbody>\n",
       "    <tr>\n",
       "      <th>count</th>\n",
       "      <td>23920.000000</td>\n",
       "      <td>17465.000000</td>\n",
       "      <td>25011.000000</td>\n",
       "      <td>24966.000000</td>\n",
       "      <td>24330.000000</td>\n",
       "      <td>18335.000000</td>\n",
       "      <td>26452.000000</td>\n",
       "      <td>24674.000000</td>\n",
       "      <td>24526.000000</td>\n",
       "      <td>22964.000000</td>\n",
       "      <td>20635.000000</td>\n",
       "      <td>11239.000000</td>\n",
       "      <td>23894.000000</td>\n",
       "    </tr>\n",
       "    <tr>\n",
       "      <th>mean</th>\n",
       "      <td>69.095223</td>\n",
       "      <td>121.578966</td>\n",
       "      <td>17.857667</td>\n",
       "      <td>28.959424</td>\n",
       "      <td>32.737994</td>\n",
       "      <td>23.894052</td>\n",
       "      <td>2.306848</td>\n",
       "      <td>14.758950</td>\n",
       "      <td>34.519763</td>\n",
       "      <td>3.310998</td>\n",
       "      <td>8.918763</td>\n",
       "      <td>3.063745</td>\n",
       "      <td>170.145811</td>\n",
       "    </tr>\n",
       "    <tr>\n",
       "      <th>std</th>\n",
       "      <td>65.389862</td>\n",
       "      <td>90.987310</td>\n",
       "      <td>22.585057</td>\n",
       "      <td>24.655411</td>\n",
       "      <td>31.809871</td>\n",
       "      <td>26.087108</td>\n",
       "      <td>7.088831</td>\n",
       "      <td>18.442412</td>\n",
       "      <td>21.763107</td>\n",
       "      <td>16.001572</td>\n",
       "      <td>20.241362</td>\n",
       "      <td>6.356428</td>\n",
       "      <td>142.084468</td>\n",
       "    </tr>\n",
       "    <tr>\n",
       "      <th>min</th>\n",
       "      <td>0.040000</td>\n",
       "      <td>0.010000</td>\n",
       "      <td>0.020000</td>\n",
       "      <td>0.010000</td>\n",
       "      <td>0.000000</td>\n",
       "      <td>0.010000</td>\n",
       "      <td>0.000000</td>\n",
       "      <td>0.010000</td>\n",
       "      <td>0.010000</td>\n",
       "      <td>0.000000</td>\n",
       "      <td>0.000000</td>\n",
       "      <td>0.000000</td>\n",
       "      <td>13.000000</td>\n",
       "    </tr>\n",
       "    <tr>\n",
       "      <th>25%</th>\n",
       "      <td>29.937500</td>\n",
       "      <td>59.900000</td>\n",
       "      <td>5.760000</td>\n",
       "      <td>11.982500</td>\n",
       "      <td>12.900000</td>\n",
       "      <td>8.710000</td>\n",
       "      <td>0.520000</td>\n",
       "      <td>5.640000</td>\n",
       "      <td>18.872500</td>\n",
       "      <td>0.150000</td>\n",
       "      <td>0.710000</td>\n",
       "      <td>0.140000</td>\n",
       "      <td>83.000000</td>\n",
       "    </tr>\n",
       "    <tr>\n",
       "      <th>50%</th>\n",
       "      <td>50.215000</td>\n",
       "      <td>98.820000</td>\n",
       "      <td>10.080000</td>\n",
       "      <td>22.110000</td>\n",
       "      <td>23.910000</td>\n",
       "      <td>16.170000</td>\n",
       "      <td>0.905000</td>\n",
       "      <td>9.220000</td>\n",
       "      <td>30.835000</td>\n",
       "      <td>1.120000</td>\n",
       "      <td>3.100000</td>\n",
       "      <td>0.980000</td>\n",
       "      <td>121.000000</td>\n",
       "    </tr>\n",
       "    <tr>\n",
       "      <th>75%</th>\n",
       "      <td>82.557500</td>\n",
       "      <td>152.970000</td>\n",
       "      <td>20.450000</td>\n",
       "      <td>38.050000</td>\n",
       "      <td>40.807500</td>\n",
       "      <td>30.445000</td>\n",
       "      <td>1.470000</td>\n",
       "      <td>15.560000</td>\n",
       "      <td>45.540000</td>\n",
       "      <td>3.160000</td>\n",
       "      <td>9.360000</td>\n",
       "      <td>3.340000</td>\n",
       "      <td>215.000000</td>\n",
       "    </tr>\n",
       "    <tr>\n",
       "      <th>max</th>\n",
       "      <td>949.990000</td>\n",
       "      <td>1000.000000</td>\n",
       "      <td>351.300000</td>\n",
       "      <td>362.210000</td>\n",
       "      <td>467.630000</td>\n",
       "      <td>352.890000</td>\n",
       "      <td>175.810000</td>\n",
       "      <td>193.860000</td>\n",
       "      <td>257.730000</td>\n",
       "      <td>455.030000</td>\n",
       "      <td>454.850000</td>\n",
       "      <td>170.370000</td>\n",
       "      <td>2049.000000</td>\n",
       "    </tr>\n",
       "  </tbody>\n",
       "</table>\n",
       "</div>"
      ],
      "text/plain": [
       "              PM2.5          PM10            NO           NO2           NOx  \\\n",
       "count  23920.000000  17465.000000  25011.000000  24966.000000  24330.000000   \n",
       "mean      69.095223    121.578966     17.857667     28.959424     32.737994   \n",
       "std       65.389862     90.987310     22.585057     24.655411     31.809871   \n",
       "min        0.040000      0.010000      0.020000      0.010000      0.000000   \n",
       "25%       29.937500     59.900000      5.760000     11.982500     12.900000   \n",
       "50%       50.215000     98.820000     10.080000     22.110000     23.910000   \n",
       "75%       82.557500    152.970000     20.450000     38.050000     40.807500   \n",
       "max      949.990000   1000.000000    351.300000    362.210000    467.630000   \n",
       "\n",
       "                NH3            CO           SO2            O3       Benzene  \\\n",
       "count  18335.000000  26452.000000  24674.000000  24526.000000  22964.000000   \n",
       "mean      23.894052      2.306848     14.758950     34.519763      3.310998   \n",
       "std       26.087108      7.088831     18.442412     21.763107     16.001572   \n",
       "min        0.010000      0.000000      0.010000      0.010000      0.000000   \n",
       "25%        8.710000      0.520000      5.640000     18.872500      0.150000   \n",
       "50%       16.170000      0.905000      9.220000     30.835000      1.120000   \n",
       "75%       30.445000      1.470000     15.560000     45.540000      3.160000   \n",
       "max      352.890000    175.810000    193.860000    257.730000    455.030000   \n",
       "\n",
       "            Toluene        Xylene           AQI  \n",
       "count  20635.000000  11239.000000  23894.000000  \n",
       "mean       8.918763      3.063745    170.145811  \n",
       "std       20.241362      6.356428    142.084468  \n",
       "min        0.000000      0.000000     13.000000  \n",
       "25%        0.710000      0.140000     83.000000  \n",
       "50%        3.100000      0.980000    121.000000  \n",
       "75%        9.360000      3.340000    215.000000  \n",
       "max      454.850000    170.370000   2049.000000  "
      ]
     },
     "execution_count": 11,
     "metadata": {},
     "output_type": "execute_result"
    }
   ],
   "source": [
    "data.describe()"
   ]
  },
  {
   "cell_type": "code",
   "execution_count": 12,
   "metadata": {},
   "outputs": [
    {
     "data": {
      "text/plain": [
       "City              0\n",
       "Date              0\n",
       "PM2.5          4554\n",
       "PM10          11009\n",
       "NO             3463\n",
       "NO2            3508\n",
       "NOx            4144\n",
       "NH3           10139\n",
       "CO             2022\n",
       "SO2            3800\n",
       "O3             3948\n",
       "Benzene        5510\n",
       "Toluene        7839\n",
       "Xylene        17235\n",
       "AQI            4580\n",
       "AQI_Bucket     4580\n",
       "dtype: int64"
      ]
     },
     "execution_count": 12,
     "metadata": {},
     "output_type": "execute_result"
    }
   ],
   "source": [
    "data.isnull().sum()"
   ]
  },
  {
   "cell_type": "code",
   "execution_count": 13,
   "metadata": {},
   "outputs": [],
   "source": [
    "data.drop([\"City\"],axis=1,inplace=True)"
   ]
  },
  {
   "cell_type": "code",
   "execution_count": 14,
   "metadata": {},
   "outputs": [],
   "source": [
    "data.drop([\"Date\"],axis=1,inplace=True)"
   ]
  },
  {
   "cell_type": "code",
   "execution_count": 15,
   "metadata": {},
   "outputs": [],
   "source": [
    "data.drop([\"NO\"],axis=1,inplace=True)"
   ]
  },
  {
   "cell_type": "code",
   "execution_count": 16,
   "metadata": {},
   "outputs": [],
   "source": [
    "data.drop([\"NOx\"],axis=1,inplace=True)"
   ]
  },
  {
   "cell_type": "code",
   "execution_count": 17,
   "metadata": {},
   "outputs": [],
   "source": [
    "data.drop([\"Benzene\"],axis=1,inplace=True)"
   ]
  },
  {
   "cell_type": "code",
   "execution_count": 18,
   "metadata": {},
   "outputs": [],
   "source": [
    "data.drop([\"Toluene\"],axis=1,inplace=True)"
   ]
  },
  {
   "cell_type": "code",
   "execution_count": 19,
   "metadata": {},
   "outputs": [],
   "source": [
    "data.drop([\"Xylene\"],axis=1,inplace=True)"
   ]
  },
  {
   "cell_type": "code",
   "execution_count": 20,
   "metadata": {},
   "outputs": [],
   "source": [
    "data.drop([\"AQI_Bucket\"],axis=1,inplace=True)"
   ]
  },
  {
   "cell_type": "code",
   "execution_count": 21,
   "metadata": {},
   "outputs": [
    {
     "data": {
      "text/html": [
       "<div>\n",
       "<style scoped>\n",
       "    .dataframe tbody tr th:only-of-type {\n",
       "        vertical-align: middle;\n",
       "    }\n",
       "\n",
       "    .dataframe tbody tr th {\n",
       "        vertical-align: top;\n",
       "    }\n",
       "\n",
       "    .dataframe thead th {\n",
       "        text-align: right;\n",
       "    }\n",
       "</style>\n",
       "<table border=\"1\" class=\"dataframe\">\n",
       "  <thead>\n",
       "    <tr style=\"text-align: right;\">\n",
       "      <th></th>\n",
       "      <th>PM2.5</th>\n",
       "      <th>PM10</th>\n",
       "      <th>NO2</th>\n",
       "      <th>NH3</th>\n",
       "      <th>CO</th>\n",
       "      <th>SO2</th>\n",
       "      <th>O3</th>\n",
       "      <th>AQI</th>\n",
       "    </tr>\n",
       "  </thead>\n",
       "  <tbody>\n",
       "    <tr>\n",
       "      <th>0</th>\n",
       "      <td>NaN</td>\n",
       "      <td>NaN</td>\n",
       "      <td>18.22</td>\n",
       "      <td>NaN</td>\n",
       "      <td>0.92</td>\n",
       "      <td>27.64</td>\n",
       "      <td>133.36</td>\n",
       "      <td>NaN</td>\n",
       "    </tr>\n",
       "    <tr>\n",
       "      <th>1</th>\n",
       "      <td>NaN</td>\n",
       "      <td>NaN</td>\n",
       "      <td>15.69</td>\n",
       "      <td>NaN</td>\n",
       "      <td>0.97</td>\n",
       "      <td>24.55</td>\n",
       "      <td>34.06</td>\n",
       "      <td>NaN</td>\n",
       "    </tr>\n",
       "    <tr>\n",
       "      <th>2</th>\n",
       "      <td>NaN</td>\n",
       "      <td>NaN</td>\n",
       "      <td>19.30</td>\n",
       "      <td>NaN</td>\n",
       "      <td>17.40</td>\n",
       "      <td>29.07</td>\n",
       "      <td>30.70</td>\n",
       "      <td>NaN</td>\n",
       "    </tr>\n",
       "    <tr>\n",
       "      <th>3</th>\n",
       "      <td>NaN</td>\n",
       "      <td>NaN</td>\n",
       "      <td>18.48</td>\n",
       "      <td>NaN</td>\n",
       "      <td>1.70</td>\n",
       "      <td>18.59</td>\n",
       "      <td>36.08</td>\n",
       "      <td>NaN</td>\n",
       "    </tr>\n",
       "    <tr>\n",
       "      <th>4</th>\n",
       "      <td>NaN</td>\n",
       "      <td>NaN</td>\n",
       "      <td>21.42</td>\n",
       "      <td>NaN</td>\n",
       "      <td>22.10</td>\n",
       "      <td>39.33</td>\n",
       "      <td>39.31</td>\n",
       "      <td>NaN</td>\n",
       "    </tr>\n",
       "  </tbody>\n",
       "</table>\n",
       "</div>"
      ],
      "text/plain": [
       "   PM2.5  PM10    NO2  NH3     CO    SO2      O3  AQI\n",
       "0    NaN   NaN  18.22  NaN   0.92  27.64  133.36  NaN\n",
       "1    NaN   NaN  15.69  NaN   0.97  24.55   34.06  NaN\n",
       "2    NaN   NaN  19.30  NaN  17.40  29.07   30.70  NaN\n",
       "3    NaN   NaN  18.48  NaN   1.70  18.59   36.08  NaN\n",
       "4    NaN   NaN  21.42  NaN  22.10  39.33   39.31  NaN"
      ]
     },
     "execution_count": 21,
     "metadata": {},
     "output_type": "execute_result"
    }
   ],
   "source": [
    "data.head()"
   ]
  },
  {
   "cell_type": "code",
   "execution_count": 22,
   "metadata": {},
   "outputs": [
    {
     "data": {
      "text/plain": [
       "PM2.5     4554\n",
       "PM10     11009\n",
       "NO2       3508\n",
       "NH3      10139\n",
       "CO        2022\n",
       "SO2       3800\n",
       "O3        3948\n",
       "AQI       4580\n",
       "dtype: int64"
      ]
     },
     "execution_count": 22,
     "metadata": {},
     "output_type": "execute_result"
    }
   ],
   "source": [
    "data.isnull().sum()"
   ]
  },
  {
   "cell_type": "code",
   "execution_count": 23,
   "metadata": {},
   "outputs": [],
   "source": [
    "data = data[data['AQI'].notna()]"
   ]
  },
  {
   "cell_type": "code",
   "execution_count": 24,
   "metadata": {},
   "outputs": [
    {
     "data": {
      "text/plain": [
       "PM2.5     675\n",
       "PM10     6994\n",
       "NO2       359\n",
       "NH3      6411\n",
       "CO        442\n",
       "SO2       588\n",
       "O3        770\n",
       "AQI         0\n",
       "dtype: int64"
      ]
     },
     "execution_count": 24,
     "metadata": {},
     "output_type": "execute_result"
    }
   ],
   "source": [
    "data.isnull().sum()"
   ]
  },
  {
   "cell_type": "code",
   "execution_count": 25,
   "metadata": {},
   "outputs": [],
   "source": [
    "data = data.fillna(data.mean())"
   ]
  },
  {
   "cell_type": "code",
   "execution_count": 26,
   "metadata": {},
   "outputs": [
    {
     "data": {
      "text/plain": [
       "PM2.5    0\n",
       "PM10     0\n",
       "NO2      0\n",
       "NH3      0\n",
       "CO       0\n",
       "SO2      0\n",
       "O3       0\n",
       "AQI      0\n",
       "dtype: int64"
      ]
     },
     "execution_count": 26,
     "metadata": {},
     "output_type": "execute_result"
    }
   ],
   "source": [
    "data.isnull().sum()"
   ]
  },
  {
   "cell_type": "code",
   "execution_count": 27,
   "metadata": {},
   "outputs": [
    {
     "data": {
      "text/plain": [
       "PM2.5    float64\n",
       "PM10     float64\n",
       "NO2      float64\n",
       "NH3      float64\n",
       "CO       float64\n",
       "SO2      float64\n",
       "O3       float64\n",
       "AQI      float64\n",
       "dtype: object"
      ]
     },
     "execution_count": 27,
     "metadata": {},
     "output_type": "execute_result"
    }
   ],
   "source": [
    "data.dtypes"
   ]
  },
  {
   "cell_type": "code",
   "execution_count": 28,
   "metadata": {},
   "outputs": [],
   "source": [
    "from sklearn.utils import shuffle"
   ]
  },
  {
   "cell_type": "code",
   "execution_count": 29,
   "metadata": {},
   "outputs": [],
   "source": [
    "data = shuffle(data, random_state=0)\n",
    "data = data.reset_index(drop=True)"
   ]
  },
  {
   "cell_type": "code",
   "execution_count": 30,
   "metadata": {},
   "outputs": [
    {
     "data": {
      "text/plain": [
       "0    275.0\n",
       "1    214.0\n",
       "2     90.0\n",
       "3     97.0\n",
       "4    276.0\n",
       "Name: AQI, dtype: float64"
      ]
     },
     "execution_count": 30,
     "metadata": {},
     "output_type": "execute_result"
    }
   ],
   "source": [
    "y = data[\"AQI\"]\n",
    "y.head()"
   ]
  },
  {
   "cell_type": "code",
   "execution_count": 31,
   "metadata": {},
   "outputs": [
    {
     "data": {
      "text/html": [
       "<div>\n",
       "<style scoped>\n",
       "    .dataframe tbody tr th:only-of-type {\n",
       "        vertical-align: middle;\n",
       "    }\n",
       "\n",
       "    .dataframe tbody tr th {\n",
       "        vertical-align: top;\n",
       "    }\n",
       "\n",
       "    .dataframe thead th {\n",
       "        text-align: right;\n",
       "    }\n",
       "</style>\n",
       "<table border=\"1\" class=\"dataframe\">\n",
       "  <thead>\n",
       "    <tr style=\"text-align: right;\">\n",
       "      <th></th>\n",
       "      <th>PM2.5</th>\n",
       "      <th>PM10</th>\n",
       "      <th>NO2</th>\n",
       "      <th>NH3</th>\n",
       "      <th>CO</th>\n",
       "      <th>SO2</th>\n",
       "      <th>O3</th>\n",
       "      <th>AQI</th>\n",
       "    </tr>\n",
       "  </thead>\n",
       "  <tbody>\n",
       "    <tr>\n",
       "      <th>0</th>\n",
       "      <td>123.46</td>\n",
       "      <td>194.76000</td>\n",
       "      <td>44.28</td>\n",
       "      <td>39.190000</td>\n",
       "      <td>1.22</td>\n",
       "      <td>15.38</td>\n",
       "      <td>28.15</td>\n",
       "      <td>275.0</td>\n",
       "    </tr>\n",
       "    <tr>\n",
       "      <th>1</th>\n",
       "      <td>86.62</td>\n",
       "      <td>121.91451</td>\n",
       "      <td>7.69</td>\n",
       "      <td>24.288205</td>\n",
       "      <td>1.10</td>\n",
       "      <td>42.66</td>\n",
       "      <td>47.42</td>\n",
       "      <td>214.0</td>\n",
       "    </tr>\n",
       "    <tr>\n",
       "      <th>2</th>\n",
       "      <td>24.22</td>\n",
       "      <td>79.10000</td>\n",
       "      <td>30.02</td>\n",
       "      <td>24.288205</td>\n",
       "      <td>1.36</td>\n",
       "      <td>21.32</td>\n",
       "      <td>39.09</td>\n",
       "      <td>90.0</td>\n",
       "    </tr>\n",
       "    <tr>\n",
       "      <th>3</th>\n",
       "      <td>51.28</td>\n",
       "      <td>121.91451</td>\n",
       "      <td>14.26</td>\n",
       "      <td>24.288205</td>\n",
       "      <td>1.15</td>\n",
       "      <td>4.08</td>\n",
       "      <td>17.81</td>\n",
       "      <td>97.0</td>\n",
       "    </tr>\n",
       "    <tr>\n",
       "      <th>4</th>\n",
       "      <td>121.12</td>\n",
       "      <td>121.91451</td>\n",
       "      <td>5.85</td>\n",
       "      <td>24.288205</td>\n",
       "      <td>0.81</td>\n",
       "      <td>9.51</td>\n",
       "      <td>36.44</td>\n",
       "      <td>276.0</td>\n",
       "    </tr>\n",
       "  </tbody>\n",
       "</table>\n",
       "</div>"
      ],
      "text/plain": [
       "    PM2.5       PM10    NO2        NH3    CO    SO2     O3    AQI\n",
       "0  123.46  194.76000  44.28  39.190000  1.22  15.38  28.15  275.0\n",
       "1   86.62  121.91451   7.69  24.288205  1.10  42.66  47.42  214.0\n",
       "2   24.22   79.10000  30.02  24.288205  1.36  21.32  39.09   90.0\n",
       "3   51.28  121.91451  14.26  24.288205  1.15   4.08  17.81   97.0\n",
       "4  121.12  121.91451   5.85  24.288205  0.81   9.51  36.44  276.0"
      ]
     },
     "execution_count": 31,
     "metadata": {},
     "output_type": "execute_result"
    }
   ],
   "source": [
    "x = data\n",
    "x.head()"
   ]
  },
  {
   "cell_type": "code",
   "execution_count": 32,
   "metadata": {},
   "outputs": [],
   "source": [
    "x.drop([\"AQI\"],axis=1,inplace=True)"
   ]
  },
  {
   "cell_type": "code",
   "execution_count": 33,
   "metadata": {},
   "outputs": [
    {
     "data": {
      "text/html": [
       "<div>\n",
       "<style scoped>\n",
       "    .dataframe tbody tr th:only-of-type {\n",
       "        vertical-align: middle;\n",
       "    }\n",
       "\n",
       "    .dataframe tbody tr th {\n",
       "        vertical-align: top;\n",
       "    }\n",
       "\n",
       "    .dataframe thead th {\n",
       "        text-align: right;\n",
       "    }\n",
       "</style>\n",
       "<table border=\"1\" class=\"dataframe\">\n",
       "  <thead>\n",
       "    <tr style=\"text-align: right;\">\n",
       "      <th></th>\n",
       "      <th>PM2.5</th>\n",
       "      <th>PM10</th>\n",
       "      <th>NO2</th>\n",
       "      <th>NH3</th>\n",
       "      <th>CO</th>\n",
       "      <th>SO2</th>\n",
       "      <th>O3</th>\n",
       "    </tr>\n",
       "  </thead>\n",
       "  <tbody>\n",
       "    <tr>\n",
       "      <th>0</th>\n",
       "      <td>123.46</td>\n",
       "      <td>194.76000</td>\n",
       "      <td>44.28</td>\n",
       "      <td>39.190000</td>\n",
       "      <td>1.22</td>\n",
       "      <td>15.38</td>\n",
       "      <td>28.15</td>\n",
       "    </tr>\n",
       "    <tr>\n",
       "      <th>1</th>\n",
       "      <td>86.62</td>\n",
       "      <td>121.91451</td>\n",
       "      <td>7.69</td>\n",
       "      <td>24.288205</td>\n",
       "      <td>1.10</td>\n",
       "      <td>42.66</td>\n",
       "      <td>47.42</td>\n",
       "    </tr>\n",
       "    <tr>\n",
       "      <th>2</th>\n",
       "      <td>24.22</td>\n",
       "      <td>79.10000</td>\n",
       "      <td>30.02</td>\n",
       "      <td>24.288205</td>\n",
       "      <td>1.36</td>\n",
       "      <td>21.32</td>\n",
       "      <td>39.09</td>\n",
       "    </tr>\n",
       "    <tr>\n",
       "      <th>3</th>\n",
       "      <td>51.28</td>\n",
       "      <td>121.91451</td>\n",
       "      <td>14.26</td>\n",
       "      <td>24.288205</td>\n",
       "      <td>1.15</td>\n",
       "      <td>4.08</td>\n",
       "      <td>17.81</td>\n",
       "    </tr>\n",
       "    <tr>\n",
       "      <th>4</th>\n",
       "      <td>121.12</td>\n",
       "      <td>121.91451</td>\n",
       "      <td>5.85</td>\n",
       "      <td>24.288205</td>\n",
       "      <td>0.81</td>\n",
       "      <td>9.51</td>\n",
       "      <td>36.44</td>\n",
       "    </tr>\n",
       "  </tbody>\n",
       "</table>\n",
       "</div>"
      ],
      "text/plain": [
       "    PM2.5       PM10    NO2        NH3    CO    SO2     O3\n",
       "0  123.46  194.76000  44.28  39.190000  1.22  15.38  28.15\n",
       "1   86.62  121.91451   7.69  24.288205  1.10  42.66  47.42\n",
       "2   24.22   79.10000  30.02  24.288205  1.36  21.32  39.09\n",
       "3   51.28  121.91451  14.26  24.288205  1.15   4.08  17.81\n",
       "4  121.12  121.91451   5.85  24.288205  0.81   9.51  36.44"
      ]
     },
     "execution_count": 33,
     "metadata": {},
     "output_type": "execute_result"
    }
   ],
   "source": [
    "x.head()"
   ]
  },
  {
   "cell_type": "code",
   "execution_count": 34,
   "metadata": {},
   "outputs": [],
   "source": [
    "from sklearn.preprocessing import StandardScaler"
   ]
  },
  {
   "cell_type": "code",
   "execution_count": 35,
   "metadata": {},
   "outputs": [
    {
     "name": "stdout",
     "output_type": "stream",
     "text": [
      "StandardScaler()\n"
     ]
    }
   ],
   "source": [
    "scaler = StandardScaler()\n",
    "print(scaler.fit(data))"
   ]
  },
  {
   "cell_type": "code",
   "execution_count": 36,
   "metadata": {},
   "outputs": [],
   "source": [
    "from sklearn.model_selection import train_test_split\n",
    "\n",
    "X_train,X_test,y_train,y_test = train_test_split(x, y, test_size=0.2, random_state=0)"
   ]
  },
  {
   "cell_type": "code",
   "execution_count": 37,
   "metadata": {},
   "outputs": [],
   "source": [
    "# from sklearn.linear_model import LinearRegression"
   ]
  },
  {
   "cell_type": "code",
   "execution_count": 38,
   "metadata": {},
   "outputs": [],
   "source": [
    "# model = LinearRegression()"
   ]
  },
  {
   "cell_type": "code",
   "execution_count": 39,
   "metadata": {},
   "outputs": [],
   "source": [
    "# model.fit(X_train, y_train)"
   ]
  },
  {
   "cell_type": "code",
   "execution_count": 40,
   "metadata": {},
   "outputs": [],
   "source": [
    "# model.score(X_test, y_test) * 100"
   ]
  },
  {
   "cell_type": "code",
   "execution_count": 41,
   "metadata": {},
   "outputs": [],
   "source": [
    "import keras\n",
    "from keras.models import Sequential\n",
    "from keras.layers import Dense\n",
    "from keras.layers import LeakyReLU,PReLU,ELU\n",
    "from keras.layers import Dropout"
   ]
  },
  {
   "cell_type": "code",
   "execution_count": 42,
   "metadata": {},
   "outputs": [
    {
     "name": "stdout",
     "output_type": "stream",
     "text": [
      "Model: \"sequential_2\"\n",
      "_________________________________________________________________\n",
      "Layer (type)                 Output Shape              Param #   \n",
      "=================================================================\n",
      "dense_1 (Dense)              (None, 128)               1024      \n",
      "_________________________________________________________________\n",
      "dense_2 (Dense)              (None, 256)               33024     \n",
      "_________________________________________________________________\n",
      "dense_3 (Dense)              (None, 256)               65792     \n",
      "_________________________________________________________________\n",
      "dense_4 (Dense)              (None, 256)               65792     \n",
      "_________________________________________________________________\n",
      "dense_5 (Dense)              (None, 256)               65792     \n",
      "_________________________________________________________________\n",
      "dense_6 (Dense)              (None, 256)               65792     \n",
      "_________________________________________________________________\n",
      "dense_7 (Dense)              (None, 1)                 257       \n",
      "=================================================================\n",
      "Total params: 297,473\n",
      "Trainable params: 297,473\n",
      "Non-trainable params: 0\n",
      "_________________________________________________________________\n"
     ]
    }
   ],
   "source": [
    "#make the model\n",
    "nuralNetworkModel = Sequential()\n",
    "\n",
    "# The Input Layer :\n",
    "nuralNetworkModel.add(Dense(128, kernel_initializer='normal',input_dim = X_train.shape[1], activation='relu'))\n",
    "\n",
    "# The Hidden Layers :\n",
    "nuralNetworkModel.add(Dense(256, kernel_initializer='normal',activation='relu'))\n",
    "nuralNetworkModel.add(Dense(256, kernel_initializer='normal',activation='relu'))\n",
    "nuralNetworkModel.add(Dense(256, kernel_initializer='normal',activation='relu'))\n",
    "nuralNetworkModel.add(Dense(256, kernel_initializer='normal',activation='relu'))\n",
    "nuralNetworkModel.add(Dense(256, kernel_initializer='normal',activation='relu'))\n",
    "\n",
    "# The Output Layer :\n",
    "nuralNetworkModel.add(Dense(1, kernel_initializer='normal',activation='linear'))\n",
    "\n",
    "# Compile the network :\n",
    "nuralNetworkModel.compile(loss='mean_absolute_error', optimizer='adam', metrics=['mean_absolute_error'])\n",
    "nuralNetworkModel.summary()"
   ]
  },
  {
   "cell_type": "code",
   "execution_count": 43,
   "metadata": {},
   "outputs": [
    {
     "name": "stdout",
     "output_type": "stream",
     "text": [
      "Train on 12807 samples, validate on 6308 samples\n",
      "Epoch 1/100\n",
      "12807/12807 [==============================] - 4s 316us/step - loss: 36.3097 - mean_absolute_error: 36.3097 - val_loss: 29.7069 - val_mean_absolute_error: 29.7069\n",
      "Epoch 2/100\n",
      "12807/12807 [==============================] - 4s 283us/step - loss: 31.4194 - mean_absolute_error: 31.4195 - val_loss: 31.8805 - val_mean_absolute_error: 31.8805\n",
      "Epoch 3/100\n",
      "12807/12807 [==============================] - 4s 331us/step - loss: 30.7659 - mean_absolute_error: 30.7659 - val_loss: 29.6581 - val_mean_absolute_error: 29.6581\n",
      "Epoch 4/100\n",
      "12807/12807 [==============================] - 3s 248us/step - loss: 30.0532 - mean_absolute_error: 30.0532 - val_loss: 35.2518 - val_mean_absolute_error: 35.2518\n",
      "Epoch 5/100\n",
      "12807/12807 [==============================] - 4s 316us/step - loss: 29.6495 - mean_absolute_error: 29.6495 - val_loss: 29.0591 - val_mean_absolute_error: 29.0591\n",
      "Epoch 6/100\n",
      "12807/12807 [==============================] - 4s 318us/step - loss: 28.8301 - mean_absolute_error: 28.8301 - val_loss: 27.3048 - val_mean_absolute_error: 27.3048\n",
      "Epoch 7/100\n",
      "12807/12807 [==============================] - 3s 263us/step - loss: 28.5877 - mean_absolute_error: 28.5877 - val_loss: 27.4053 - val_mean_absolute_error: 27.4053\n",
      "Epoch 8/100\n",
      "12807/12807 [==============================] - 4s 279us/step - loss: 28.4832 - mean_absolute_error: 28.4832 - val_loss: 27.0480 - val_mean_absolute_error: 27.0480\n",
      "Epoch 9/100\n",
      "12807/12807 [==============================] - 3s 264us/step - loss: 27.9471 - mean_absolute_error: 27.9471 - val_loss: 29.0285 - val_mean_absolute_error: 29.0285\n",
      "Epoch 10/100\n",
      "12807/12807 [==============================] - 4s 302us/step - loss: 28.4125 - mean_absolute_error: 28.4125 - val_loss: 27.4803 - val_mean_absolute_error: 27.4803\n",
      "Epoch 11/100\n",
      "12807/12807 [==============================] - 3s 249us/step - loss: 27.6229 - mean_absolute_error: 27.6228 - val_loss: 27.6687 - val_mean_absolute_error: 27.6687\n",
      "Epoch 12/100\n",
      "12807/12807 [==============================] - 4s 278us/step - loss: 27.7968 - mean_absolute_error: 27.7968 - val_loss: 32.8968 - val_mean_absolute_error: 32.8968\n",
      "Epoch 13/100\n",
      "12807/12807 [==============================] - 4s 319us/step - loss: 27.9320 - mean_absolute_error: 27.9320 - val_loss: 27.0445 - val_mean_absolute_error: 27.0445\n",
      "Epoch 14/100\n",
      "12807/12807 [==============================] - 5s 378us/step - loss: 27.5148 - mean_absolute_error: 27.5148 - val_loss: 27.8323 - val_mean_absolute_error: 27.8323\n",
      "Epoch 15/100\n",
      "12807/12807 [==============================] - 5s 400us/step - loss: 27.6861 - mean_absolute_error: 27.6862 - val_loss: 28.7737 - val_mean_absolute_error: 28.7737\n",
      "Epoch 16/100\n",
      "12807/12807 [==============================] - 4s 336us/step - loss: 27.3739 - mean_absolute_error: 27.3739 - val_loss: 26.7811 - val_mean_absolute_error: 26.7811\n",
      "Epoch 17/100\n",
      "12807/12807 [==============================] - 4s 345us/step - loss: 27.1904 - mean_absolute_error: 27.1904 - val_loss: 27.5910 - val_mean_absolute_error: 27.5910\n",
      "Epoch 18/100\n",
      "12807/12807 [==============================] - 4s 333us/step - loss: 27.2625 - mean_absolute_error: 27.2626 - val_loss: 28.8798 - val_mean_absolute_error: 28.8798\n",
      "Epoch 19/100\n",
      "12807/12807 [==============================] - 4s 309us/step - loss: 27.0848 - mean_absolute_error: 27.0848 - val_loss: 27.8310 - val_mean_absolute_error: 27.8310\n",
      "Epoch 20/100\n",
      "12807/12807 [==============================] - 5s 379us/step - loss: 26.9621 - mean_absolute_error: 26.9621 - val_loss: 26.4588 - val_mean_absolute_error: 26.4588\n",
      "Epoch 21/100\n",
      "12807/12807 [==============================] - 4s 302us/step - loss: 26.8780 - mean_absolute_error: 26.8780 - val_loss: 26.5003 - val_mean_absolute_error: 26.5003\n",
      "Epoch 22/100\n",
      "12807/12807 [==============================] - 4s 330us/step - loss: 26.8534 - mean_absolute_error: 26.8534 - val_loss: 27.7287 - val_mean_absolute_error: 27.7287\n",
      "Epoch 23/100\n",
      "12807/12807 [==============================] - 4s 306us/step - loss: 26.8029 - mean_absolute_error: 26.8029 - val_loss: 27.6872 - val_mean_absolute_error: 27.6872\n",
      "Epoch 24/100\n",
      "12807/12807 [==============================] - 4s 311us/step - loss: 26.8309 - mean_absolute_error: 26.8309 - val_loss: 27.9807 - val_mean_absolute_error: 27.9806\n",
      "Epoch 25/100\n",
      "12807/12807 [==============================] - 4s 324us/step - loss: 26.6083 - mean_absolute_error: 26.6083 - val_loss: 26.5418 - val_mean_absolute_error: 26.5418\n",
      "Epoch 26/100\n",
      "12807/12807 [==============================] - 5s 356us/step - loss: 26.4165 - mean_absolute_error: 26.4165 - val_loss: 26.3054 - val_mean_absolute_error: 26.3054\n",
      "Epoch 27/100\n",
      "12807/12807 [==============================] - 4s 301us/step - loss: 26.4691 - mean_absolute_error: 26.4691 - val_loss: 26.9003 - val_mean_absolute_error: 26.9003\n",
      "Epoch 28/100\n",
      "12807/12807 [==============================] - 4s 317us/step - loss: 26.5237 - mean_absolute_error: 26.5237 - val_loss: 26.5735 - val_mean_absolute_error: 26.5735\n",
      "Epoch 29/100\n",
      "12807/12807 [==============================] - 4s 321us/step - loss: 26.5596 - mean_absolute_error: 26.5596 - val_loss: 29.5936 - val_mean_absolute_error: 29.5936\n",
      "Epoch 30/100\n",
      "12807/12807 [==============================] - 6s 470us/step - loss: 26.2716 - mean_absolute_error: 26.2716 - val_loss: 27.9465 - val_mean_absolute_error: 27.9465\n",
      "Epoch 31/100\n",
      "12807/12807 [==============================] - 5s 415us/step - loss: 26.0827 - mean_absolute_error: 26.0827 - val_loss: 26.0418 - val_mean_absolute_error: 26.0417\n",
      "Epoch 32/100\n",
      "12807/12807 [==============================] - 4s 313us/step - loss: 26.1761 - mean_absolute_error: 26.1761 - val_loss: 25.9107 - val_mean_absolute_error: 25.9107\n",
      "Epoch 33/100\n",
      "12807/12807 [==============================] - 4s 329us/step - loss: 25.9720 - mean_absolute_error: 25.9720 - val_loss: 27.0579 - val_mean_absolute_error: 27.0580\n",
      "Epoch 34/100\n",
      "12807/12807 [==============================] - 4s 333us/step - loss: 26.0103 - mean_absolute_error: 26.0103 - val_loss: 26.7265 - val_mean_absolute_error: 26.7265\n",
      "Epoch 35/100\n",
      "12807/12807 [==============================] - 4s 315us/step - loss: 26.0298 - mean_absolute_error: 26.0298 - val_loss: 26.7875 - val_mean_absolute_error: 26.7875\n",
      "Epoch 36/100\n",
      "12807/12807 [==============================] - 4s 308us/step - loss: 26.0226 - mean_absolute_error: 26.0226 - val_loss: 26.1974 - val_mean_absolute_error: 26.1975\n",
      "Epoch 37/100\n",
      "12807/12807 [==============================] - 4s 323us/step - loss: 26.0864 - mean_absolute_error: 26.0864 - val_loss: 25.7822 - val_mean_absolute_error: 25.7822\n",
      "Epoch 38/100\n",
      "12807/12807 [==============================] - 5s 374us/step - loss: 26.1552 - mean_absolute_error: 26.1551 - val_loss: 25.8095 - val_mean_absolute_error: 25.8095\n",
      "Epoch 39/100\n",
      "12807/12807 [==============================] - 6s 447us/step - loss: 26.0747 - mean_absolute_error: 26.0747 - val_loss: 25.8242 - val_mean_absolute_error: 25.8242\n",
      "Epoch 40/100\n",
      "12807/12807 [==============================] - 5s 396us/step - loss: 25.8584 - mean_absolute_error: 25.8584 - val_loss: 26.0482 - val_mean_absolute_error: 26.0482\n",
      "Epoch 41/100\n",
      "12807/12807 [==============================] - 4s 314us/step - loss: 25.9766 - mean_absolute_error: 25.9766 - val_loss: 26.4276 - val_mean_absolute_error: 26.4276\n",
      "Epoch 42/100\n",
      "12807/12807 [==============================] - 4s 290us/step - loss: 25.9150 - mean_absolute_error: 25.9150 - val_loss: 31.9260 - val_mean_absolute_error: 31.9260\n",
      "Epoch 43/100\n",
      "12807/12807 [==============================] - 4s 292us/step - loss: 25.6704 - mean_absolute_error: 25.6704 - val_loss: 26.1592 - val_mean_absolute_error: 26.1592\n",
      "Epoch 44/100\n",
      "12807/12807 [==============================] - 4s 315us/step - loss: 25.9367 - mean_absolute_error: 25.9367 - val_loss: 28.0105 - val_mean_absolute_error: 28.0105\n",
      "Epoch 45/100\n",
      "12807/12807 [==============================] - 4s 298us/step - loss: 25.7225 - mean_absolute_error: 25.7226 - val_loss: 25.8777 - val_mean_absolute_error: 25.8777\n",
      "Epoch 46/100\n",
      "12807/12807 [==============================] - 4s 331us/step - loss: 25.8412 - mean_absolute_error: 25.8412 - val_loss: 25.8629 - val_mean_absolute_error: 25.8629\n",
      "Epoch 47/100\n"
     ]
    },
    {
     "name": "stdout",
     "output_type": "stream",
     "text": [
      "12807/12807 [==============================] - 5s 392us/step - loss: 25.4209 - mean_absolute_error: 25.4209 - val_loss: 26.1025 - val_mean_absolute_error: 26.1025\n",
      "Epoch 48/100\n",
      "12807/12807 [==============================] - 5s 352us/step - loss: 25.6744 - mean_absolute_error: 25.6744 - val_loss: 26.4579 - val_mean_absolute_error: 26.4579\n",
      "Epoch 49/100\n",
      "12807/12807 [==============================] - 4s 321us/step - loss: 25.6156 - mean_absolute_error: 25.6156 - val_loss: 25.7429 - val_mean_absolute_error: 25.7429\n",
      "Epoch 50/100\n",
      "12807/12807 [==============================] - 4s 331us/step - loss: 25.5146 - mean_absolute_error: 25.5146 - val_loss: 25.5461 - val_mean_absolute_error: 25.5461\n",
      "Epoch 51/100\n",
      "12807/12807 [==============================] - 5s 383us/step - loss: 25.4491 - mean_absolute_error: 25.4491 - val_loss: 26.0198 - val_mean_absolute_error: 26.0198\n",
      "Epoch 52/100\n",
      "12807/12807 [==============================] - 4s 324us/step - loss: 25.6006 - mean_absolute_error: 25.6007 - val_loss: 26.9038 - val_mean_absolute_error: 26.9038\n",
      "Epoch 53/100\n",
      "12807/12807 [==============================] - 7s 552us/step - loss: 25.3540 - mean_absolute_error: 25.3540 - val_loss: 28.3087 - val_mean_absolute_error: 28.3087\n",
      "Epoch 54/100\n",
      "12807/12807 [==============================] - 9s 668us/step - loss: 25.5174 - mean_absolute_error: 25.5174 - val_loss: 26.4157 - val_mean_absolute_error: 26.4157\n",
      "Epoch 55/100\n",
      "12807/12807 [==============================] - 5s 385us/step - loss: 25.2096 - mean_absolute_error: 25.2096 - val_loss: 26.1111 - val_mean_absolute_error: 26.1111\n",
      "Epoch 56/100\n",
      "12807/12807 [==============================] - 5s 357us/step - loss: 25.3471 - mean_absolute_error: 25.3471 - val_loss: 26.2959 - val_mean_absolute_error: 26.2959\n",
      "Epoch 57/100\n",
      "12807/12807 [==============================] - 5s 360us/step - loss: 25.2529 - mean_absolute_error: 25.2528 - val_loss: 26.0924 - val_mean_absolute_error: 26.0924\n",
      "Epoch 58/100\n",
      "12807/12807 [==============================] - 4s 342us/step - loss: 25.2997 - mean_absolute_error: 25.2997 - val_loss: 26.3124 - val_mean_absolute_error: 26.3124\n",
      "Epoch 59/100\n",
      "12807/12807 [==============================] - 5s 366us/step - loss: 25.1358 - mean_absolute_error: 25.1358 - val_loss: 25.7771 - val_mean_absolute_error: 25.7771\n",
      "Epoch 60/100\n",
      "12807/12807 [==============================] - 5s 378us/step - loss: 25.2119 - mean_absolute_error: 25.2119 - val_loss: 25.7478 - val_mean_absolute_error: 25.7478\n",
      "Epoch 61/100\n",
      "12807/12807 [==============================] - 5s 415us/step - loss: 25.0794 - mean_absolute_error: 25.0794 - val_loss: 25.9222 - val_mean_absolute_error: 25.9222\n",
      "Epoch 62/100\n",
      "12807/12807 [==============================] - 5s 404us/step - loss: 24.8870 - mean_absolute_error: 24.8870 - val_loss: 25.5870 - val_mean_absolute_error: 25.5870\n",
      "Epoch 63/100\n",
      "12807/12807 [==============================] - 5s 382us/step - loss: 24.9319 - mean_absolute_error: 24.9319 - val_loss: 26.4752 - val_mean_absolute_error: 26.4752\n",
      "Epoch 64/100\n",
      "12807/12807 [==============================] - 5s 365us/step - loss: 24.9783 - mean_absolute_error: 24.9783 - val_loss: 25.8003 - val_mean_absolute_error: 25.8003\n",
      "Epoch 65/100\n",
      "12807/12807 [==============================] - 4s 341us/step - loss: 24.8261 - mean_absolute_error: 24.8261 - val_loss: 26.2243 - val_mean_absolute_error: 26.2243\n",
      "Epoch 66/100\n",
      "12807/12807 [==============================] - 5s 371us/step - loss: 24.6794 - mean_absolute_error: 24.6794 - val_loss: 25.4178 - val_mean_absolute_error: 25.4178\n",
      "Epoch 67/100\n",
      "12807/12807 [==============================] - 5s 413us/step - loss: 24.8578 - mean_absolute_error: 24.8578 - val_loss: 25.5885 - val_mean_absolute_error: 25.5885\n",
      "Epoch 68/100\n",
      "12807/12807 [==============================] - 5s 372us/step - loss: 24.7724 - mean_absolute_error: 24.7724 - val_loss: 25.7429 - val_mean_absolute_error: 25.7429\n",
      "Epoch 69/100\n",
      "12807/12807 [==============================] - 5s 370us/step - loss: 24.5247 - mean_absolute_error: 24.5246 - val_loss: 25.7224 - val_mean_absolute_error: 25.7224\n",
      "Epoch 70/100\n",
      "12807/12807 [==============================] - 5s 395us/step - loss: 24.4941 - mean_absolute_error: 24.4941 - val_loss: 27.3311 - val_mean_absolute_error: 27.3311\n",
      "Epoch 71/100\n",
      "12807/12807 [==============================] - 5s 354us/step - loss: 24.4208 - mean_absolute_error: 24.4207 - val_loss: 26.3241 - val_mean_absolute_error: 26.3241\n",
      "Epoch 72/100\n",
      "12807/12807 [==============================] - 4s 343us/step - loss: 24.2935 - mean_absolute_error: 24.2935 - val_loss: 24.7195 - val_mean_absolute_error: 24.7195\n",
      "Epoch 73/100\n",
      "12807/12807 [==============================] - 4s 332us/step - loss: 24.1767 - mean_absolute_error: 24.1767 - val_loss: 25.6206 - val_mean_absolute_error: 25.6206\n",
      "Epoch 74/100\n",
      "12807/12807 [==============================] - 4s 326us/step - loss: 24.0770 - mean_absolute_error: 24.0769 - val_loss: 25.7535 - val_mean_absolute_error: 25.7535\n",
      "Epoch 75/100\n",
      "12807/12807 [==============================] - 4s 286us/step - loss: 24.1693 - mean_absolute_error: 24.1694 - val_loss: 25.7608 - val_mean_absolute_error: 25.7608\n",
      "Epoch 76/100\n",
      "12807/12807 [==============================] - 4s 304us/step - loss: 23.8167 - mean_absolute_error: 23.8167 - val_loss: 24.2865 - val_mean_absolute_error: 24.2865\n",
      "Epoch 77/100\n",
      "12807/12807 [==============================] - 4s 331us/step - loss: 23.9042 - mean_absolute_error: 23.9042 - val_loss: 24.3903 - val_mean_absolute_error: 24.3903\n",
      "Epoch 78/100\n",
      "12807/12807 [==============================] - 4s 320us/step - loss: 23.8883 - mean_absolute_error: 23.8883 - val_loss: 24.5597 - val_mean_absolute_error: 24.5597\n",
      "Epoch 79/100\n",
      "12807/12807 [==============================] - 5s 418us/step - loss: 23.5565 - mean_absolute_error: 23.5565 - val_loss: 28.1523 - val_mean_absolute_error: 28.1523\n",
      "Epoch 80/100\n",
      "12807/12807 [==============================] - 3s 247us/step - loss: 23.7037 - mean_absolute_error: 23.7037 - val_loss: 25.7018 - val_mean_absolute_error: 25.7017\n",
      "Epoch 81/100\n",
      "12807/12807 [==============================] - 4s 335us/step - loss: 23.6084 - mean_absolute_error: 23.6084 - val_loss: 25.9590 - val_mean_absolute_error: 25.9590\n",
      "Epoch 82/100\n",
      "12807/12807 [==============================] - 4s 291us/step - loss: 23.6306 - mean_absolute_error: 23.6305 - val_loss: 24.4161 - val_mean_absolute_error: 24.4161\n",
      "Epoch 83/100\n",
      "12807/12807 [==============================] - 3s 253us/step - loss: 23.7006 - mean_absolute_error: 23.7006 - val_loss: 25.4169 - val_mean_absolute_error: 25.4168\n",
      "Epoch 84/100\n",
      "12807/12807 [==============================] - 3s 261us/step - loss: 23.4633 - mean_absolute_error: 23.4633 - val_loss: 27.1219 - val_mean_absolute_error: 27.1219\n",
      "Epoch 85/100\n",
      "12807/12807 [==============================] - 3s 256us/step - loss: 23.4908 - mean_absolute_error: 23.4908 - val_loss: 24.5658 - val_mean_absolute_error: 24.5658\n",
      "Epoch 86/100\n",
      "12807/12807 [==============================] - 4s 325us/step - loss: 23.3087 - mean_absolute_error: 23.3087 - val_loss: 24.3554 - val_mean_absolute_error: 24.3554\n",
      "Epoch 87/100\n",
      "12807/12807 [==============================] - 4s 307us/step - loss: 23.5028 - mean_absolute_error: 23.5028 - val_loss: 25.5598 - val_mean_absolute_error: 25.5598\n",
      "Epoch 88/100\n",
      "12807/12807 [==============================] - 4s 322us/step - loss: 23.3778 - mean_absolute_error: 23.3778 - val_loss: 24.7821 - val_mean_absolute_error: 24.7821\n",
      "Epoch 89/100\n",
      "12807/12807 [==============================] - 3s 273us/step - loss: 23.4157 - mean_absolute_error: 23.4157 - val_loss: 25.0724 - val_mean_absolute_error: 25.0725\n",
      "Epoch 90/100\n",
      "12807/12807 [==============================] - 5s 374us/step - loss: 23.1671 - mean_absolute_error: 23.1671 - val_loss: 27.0525 - val_mean_absolute_error: 27.0525\n",
      "Epoch 91/100\n",
      "12807/12807 [==============================] - 3s 250us/step - loss: 23.2861 - mean_absolute_error: 23.2861 - val_loss: 24.1480 - val_mean_absolute_error: 24.1480\n",
      "Epoch 92/100\n",
      "12807/12807 [==============================] - 4s 285us/step - loss: 23.3215 - mean_absolute_error: 23.3215 - val_loss: 25.0127 - val_mean_absolute_error: 25.0127\n",
      "Epoch 93/100\n"
     ]
    },
    {
     "name": "stdout",
     "output_type": "stream",
     "text": [
      "12807/12807 [==============================] - 4s 275us/step - loss: 23.4565 - mean_absolute_error: 23.4565 - val_loss: 24.4424 - val_mean_absolute_error: 24.4424\n",
      "Epoch 94/100\n",
      "12807/12807 [==============================] - 4s 326us/step - loss: 23.1969 - mean_absolute_error: 23.1969 - val_loss: 25.0514 - val_mean_absolute_error: 25.0514\n",
      "Epoch 95/100\n",
      "12807/12807 [==============================] - 4s 317us/step - loss: 23.1767 - mean_absolute_error: 23.1767 - val_loss: 24.4280 - val_mean_absolute_error: 24.4280\n",
      "Epoch 96/100\n",
      "12807/12807 [==============================] - 4s 275us/step - loss: 22.9527 - mean_absolute_error: 22.9527 - val_loss: 24.7637 - val_mean_absolute_error: 24.7637\n",
      "Epoch 97/100\n",
      "12807/12807 [==============================] - 3s 253us/step - loss: 23.1561 - mean_absolute_error: 23.1561 - val_loss: 24.0640 - val_mean_absolute_error: 24.0639\n",
      "Epoch 98/100\n",
      "12807/12807 [==============================] - 3s 246us/step - loss: 22.8953 - mean_absolute_error: 22.8953 - val_loss: 24.6451 - val_mean_absolute_error: 24.6451\n",
      "Epoch 99/100\n",
      "12807/12807 [==============================] - 3s 266us/step - loss: 22.9163 - mean_absolute_error: 22.9163 - val_loss: 23.6698 - val_mean_absolute_error: 23.6698\n",
      "Epoch 100/100\n",
      "12807/12807 [==============================] - 3s 242us/step - loss: 22.9580 - mean_absolute_error: 22.9580 - val_loss: 24.4896 - val_mean_absolute_error: 24.4896\n"
     ]
    },
    {
     "data": {
      "text/plain": [
       "<keras.callbacks.callbacks.History at 0x2949d212ac8>"
      ]
     },
     "execution_count": 43,
     "metadata": {},
     "output_type": "execute_result"
    }
   ],
   "source": [
    "nuralNetworkModel.fit(X_train, y_train,validation_split=0.33, batch_size = 10, epochs = 100)"
   ]
  },
  {
   "cell_type": "code",
   "execution_count": 44,
   "metadata": {},
   "outputs": [],
   "source": [
    "predictValues = nuralNetworkModel.predict(X_test)"
   ]
  },
  {
   "cell_type": "code",
   "execution_count": 47,
   "metadata": {},
   "outputs": [
    {
     "name": "stdout",
     "output_type": "stream",
     "text": [
      "MAE: 23.04690430428249\n",
      "MSE: 1691.5438459661725\n",
      "RMSE: 41.12838248662561\n"
     ]
    }
   ],
   "source": [
    "from sklearn import metrics\n",
    "print('MAE:', metrics.mean_absolute_error(y_test, predictValues))\n",
    "print('MSE:', metrics.mean_squared_error(y_test, predictValues))\n",
    "print('RMSE:', np.sqrt(metrics.mean_squared_error(y_test, predictValues)))"
   ]
  },
  {
   "cell_type": "code",
   "execution_count": null,
   "metadata": {},
   "outputs": [],
   "source": []
  }
 ],
 "metadata": {
  "kernelspec": {
   "display_name": "Python 3",
   "language": "python",
   "name": "python3"
  },
  "language_info": {
   "codemirror_mode": {
    "name": "ipython",
    "version": 3
   },
   "file_extension": ".py",
   "mimetype": "text/x-python",
   "name": "python",
   "nbconvert_exporter": "python",
   "pygments_lexer": "ipython3",
   "version": "3.7.7"
  }
 },
 "nbformat": 4,
 "nbformat_minor": 4
}
